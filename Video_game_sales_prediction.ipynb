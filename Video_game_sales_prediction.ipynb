{
 "cells": [
  {
   "cell_type": "markdown",
   "id": "391269b2-5f04-40b6-980f-d2e1371c40a3",
   "metadata": {},
   "source": [
    " # importing library"
   ]
  },
  {
   "cell_type": "code",
   "execution_count": 103,
   "id": "3072cca5-da0b-4777-864f-c5db48f377d0",
   "metadata": {
    "tags": []
   },
   "outputs": [],
   "source": [
    "import numpy as np\n",
    "import pandas as pd\n",
    "import matplotlib.pyplot as plt\n",
    "import seaborn as sns\n",
    "import statsmodels.api as sm\n",
    "from sklearn.model_selection import train_test_split\n",
    "from statsmodels.tools.eval_measures import rmse"
   ]
  },
  {
   "cell_type": "code",
   "execution_count": 104,
   "id": "0fd33f3f-5833-4cde-b30b-1d53a5737302",
   "metadata": {},
   "outputs": [],
   "source": [
    "#reading data\n",
    "data = pd.read_csv(\"Train.csv\")"
   ]
  },
  {
   "cell_type": "code",
   "execution_count": 105,
   "id": "64b3c36e-0752-4413-a51c-fdf04c882989",
   "metadata": {},
   "outputs": [
    {
     "data": {
      "text/html": [
       "<div>\n",
       "<style scoped>\n",
       "    .dataframe tbody tr th:only-of-type {\n",
       "        vertical-align: middle;\n",
       "    }\n",
       "\n",
       "    .dataframe tbody tr th {\n",
       "        vertical-align: top;\n",
       "    }\n",
       "\n",
       "    .dataframe thead th {\n",
       "        text-align: right;\n",
       "    }\n",
       "</style>\n",
       "<table border=\"1\" class=\"dataframe\">\n",
       "  <thead>\n",
       "    <tr style=\"text-align: right;\">\n",
       "      <th></th>\n",
       "      <th>Name</th>\n",
       "      <th>Platform</th>\n",
       "      <th>Year_of_Release</th>\n",
       "      <th>Genre</th>\n",
       "      <th>Publisher</th>\n",
       "      <th>NA_Sales</th>\n",
       "      <th>EU_Sales</th>\n",
       "      <th>JP_Sales</th>\n",
       "      <th>Critic_Score</th>\n",
       "      <th>Critic_Count</th>\n",
       "      <th>User_Score</th>\n",
       "      <th>User_Count</th>\n",
       "      <th>Developer</th>\n",
       "      <th>Rating</th>\n",
       "      <th>Global_Sales</th>\n",
       "    </tr>\n",
       "  </thead>\n",
       "  <tbody>\n",
       "    <tr>\n",
       "      <th>0</th>\n",
       "      <td>Wii Sports</td>\n",
       "      <td>Wii</td>\n",
       "      <td>2006.0</td>\n",
       "      <td>Sports</td>\n",
       "      <td>Nintendo</td>\n",
       "      <td>41.36</td>\n",
       "      <td>28.96</td>\n",
       "      <td>3.77</td>\n",
       "      <td>76.0</td>\n",
       "      <td>51.0</td>\n",
       "      <td>8</td>\n",
       "      <td>322.0</td>\n",
       "      <td>Nintendo</td>\n",
       "      <td>E</td>\n",
       "      <td>82.53</td>\n",
       "    </tr>\n",
       "    <tr>\n",
       "      <th>1</th>\n",
       "      <td>Super Mario Bros.</td>\n",
       "      <td>NES</td>\n",
       "      <td>1985.0</td>\n",
       "      <td>Platform</td>\n",
       "      <td>Nintendo</td>\n",
       "      <td>29.08</td>\n",
       "      <td>3.58</td>\n",
       "      <td>6.81</td>\n",
       "      <td>NaN</td>\n",
       "      <td>NaN</td>\n",
       "      <td>NaN</td>\n",
       "      <td>NaN</td>\n",
       "      <td>NaN</td>\n",
       "      <td>NaN</td>\n",
       "      <td>40.24</td>\n",
       "    </tr>\n",
       "    <tr>\n",
       "      <th>2</th>\n",
       "      <td>Mario Kart Wii</td>\n",
       "      <td>Wii</td>\n",
       "      <td>2008.0</td>\n",
       "      <td>Racing</td>\n",
       "      <td>Nintendo</td>\n",
       "      <td>15.68</td>\n",
       "      <td>12.76</td>\n",
       "      <td>3.79</td>\n",
       "      <td>82.0</td>\n",
       "      <td>73.0</td>\n",
       "      <td>8.3</td>\n",
       "      <td>709.0</td>\n",
       "      <td>Nintendo</td>\n",
       "      <td>E</td>\n",
       "      <td>35.52</td>\n",
       "    </tr>\n",
       "    <tr>\n",
       "      <th>3</th>\n",
       "      <td>Wii Sports Resort</td>\n",
       "      <td>Wii</td>\n",
       "      <td>2009.0</td>\n",
       "      <td>Sports</td>\n",
       "      <td>Nintendo</td>\n",
       "      <td>15.61</td>\n",
       "      <td>10.93</td>\n",
       "      <td>3.28</td>\n",
       "      <td>80.0</td>\n",
       "      <td>73.0</td>\n",
       "      <td>8</td>\n",
       "      <td>192.0</td>\n",
       "      <td>Nintendo</td>\n",
       "      <td>E</td>\n",
       "      <td>32.77</td>\n",
       "    </tr>\n",
       "    <tr>\n",
       "      <th>4</th>\n",
       "      <td>Pokemon Red/Pokemon Blue</td>\n",
       "      <td>GB</td>\n",
       "      <td>1996.0</td>\n",
       "      <td>Role-Playing</td>\n",
       "      <td>Nintendo</td>\n",
       "      <td>11.27</td>\n",
       "      <td>8.89</td>\n",
       "      <td>10.22</td>\n",
       "      <td>NaN</td>\n",
       "      <td>NaN</td>\n",
       "      <td>NaN</td>\n",
       "      <td>NaN</td>\n",
       "      <td>NaN</td>\n",
       "      <td>NaN</td>\n",
       "      <td>31.37</td>\n",
       "    </tr>\n",
       "  </tbody>\n",
       "</table>\n",
       "</div>"
      ],
      "text/plain": [
       "                       Name Platform  Year_of_Release         Genre Publisher  \\\n",
       "0                Wii Sports      Wii           2006.0        Sports  Nintendo   \n",
       "1         Super Mario Bros.      NES           1985.0      Platform  Nintendo   \n",
       "2            Mario Kart Wii      Wii           2008.0        Racing  Nintendo   \n",
       "3         Wii Sports Resort      Wii           2009.0        Sports  Nintendo   \n",
       "4  Pokemon Red/Pokemon Blue       GB           1996.0  Role-Playing  Nintendo   \n",
       "\n",
       "   NA_Sales  EU_Sales  JP_Sales  Critic_Score  Critic_Count User_Score  \\\n",
       "0     41.36     28.96      3.77          76.0          51.0          8   \n",
       "1     29.08      3.58      6.81           NaN           NaN        NaN   \n",
       "2     15.68     12.76      3.79          82.0          73.0        8.3   \n",
       "3     15.61     10.93      3.28          80.0          73.0          8   \n",
       "4     11.27      8.89     10.22           NaN           NaN        NaN   \n",
       "\n",
       "   User_Count Developer Rating  Global_Sales  \n",
       "0       322.0  Nintendo      E         82.53  \n",
       "1         NaN       NaN    NaN         40.24  \n",
       "2       709.0  Nintendo      E         35.52  \n",
       "3       192.0  Nintendo      E         32.77  \n",
       "4         NaN       NaN    NaN         31.37  "
      ]
     },
     "execution_count": 105,
     "metadata": {},
     "output_type": "execute_result"
    }
   ],
   "source": [
    "#dispay data\n",
    "data.head()"
   ]
  },
  {
   "cell_type": "code",
   "execution_count": 106,
   "id": "8ceb35e4-bcde-40be-b919-d5a97c52eadd",
   "metadata": {},
   "outputs": [
    {
     "name": "stdout",
     "output_type": "stream",
     "text": [
      "<class 'pandas.core.frame.DataFrame'>\n",
      "RangeIndex: 14576 entries, 0 to 14575\n",
      "Data columns (total 15 columns):\n",
      " #   Column           Non-Null Count  Dtype  \n",
      "---  ------           --------------  -----  \n",
      " 0   Name             14574 non-null  object \n",
      " 1   Platform         14576 non-null  object \n",
      " 2   Year_of_Release  14344 non-null  float64\n",
      " 3   Genre            14574 non-null  object \n",
      " 4   Publisher        14527 non-null  object \n",
      " 5   NA_Sales         14576 non-null  float64\n",
      " 6   EU_Sales         14576 non-null  float64\n",
      " 7   JP_Sales         14576 non-null  float64\n",
      " 8   Critic_Score     7217 non-null   float64\n",
      " 9   Critic_Count     7217 non-null   float64\n",
      " 10  User_Score       8760 non-null   object \n",
      " 11  User_Count       6796 non-null   float64\n",
      " 12  Developer        8829 non-null   object \n",
      " 13  Rating           8704 non-null   object \n",
      " 14  Global_Sales     14576 non-null  float64\n",
      "dtypes: float64(8), object(7)\n",
      "memory usage: 1.7+ MB\n"
     ]
    }
   ],
   "source": [
    "data.info()"
   ]
  },
  {
   "cell_type": "code",
   "execution_count": 107,
   "id": "dc7fdad6-fefa-4c7e-9274-b0773160312b",
   "metadata": {},
   "outputs": [
    {
     "data": {
      "text/plain": [
       "(14576, 15)"
      ]
     },
     "execution_count": 107,
     "metadata": {},
     "output_type": "execute_result"
    }
   ],
   "source": [
    "#shape of data\n",
    "data.shape"
   ]
  },
  {
   "cell_type": "code",
   "execution_count": 108,
   "id": "a7feb178-880f-4154-95ca-518de09223ee",
   "metadata": {},
   "outputs": [
    {
     "data": {
      "text/plain": [
       "array(['8', nan, '8.3', '8.5', '6.6', '8.4', '8.6', '7.7', '6.3', '7.4',\n",
       "       '8.2', '9', '7.9', '8.1', '8.7', '7.1', '3.4', '5.3', '4.8', '3.2',\n",
       "       '8.9', '6.4', '7.8', '7.5', '2.6', '7.2', '9.2', '7', '7.3', '4.3',\n",
       "       '7.6', '5.7', '5', '9.1', '6.5', 'tbd', '8.8', '6.9', '9.4', '6.8',\n",
       "       '6.1', '6.7', '5.4', '4', '4.9', '4.5', '9.3', '6.2', '4.2', '6',\n",
       "       '3.7', '4.1', '5.8', '5.6', '5.5', '4.4', '4.6', '5.9', '3.9',\n",
       "       '3.1', '2.9', '5.2', '3.3', '4.7', '5.1', '3.5', '2.5', '1.9', '3',\n",
       "       '2.7', '2.2', '2', '9.5', '2.1', '3.6', '2.8', '1.8', '3.8', '0',\n",
       "       '1.6', '9.6', '2.4', '1.7', '1.1', '0.3', '1.5', '0.7', '1.2',\n",
       "       '2.3', '0.5', '0.6', '1.4', '0.9', '1', '1.3', '0.2', '9.7'],\n",
       "      dtype=object)"
      ]
     },
     "execution_count": 108,
     "metadata": {},
     "output_type": "execute_result"
    }
   ],
   "source": [
    "data.User_Score .unique()"
   ]
  },
  {
   "cell_type": "code",
   "execution_count": 109,
   "id": "9435fe95-bffd-487a-9a3f-8b474f115278",
   "metadata": {},
   "outputs": [
    {
     "data": {
      "text/plain": [
       "array(['8', nan, '8.3', '8.5', '6.6', '8.4', '8.6', '7.7', '6.3', '7.4',\n",
       "       '8.2', '9', '7.9', '8.1', '8.7', '7.1', '3.4', '5.3', '4.8', '3.2',\n",
       "       '8.9', '6.4', '7.8', '7.5', '2.6', '7.2', '9.2', '7', '7.3', '4.3',\n",
       "       '7.6', '5.7', '5', '9.1', '6.5', 'tbd', '8.8', '6.9', '9.4', '6.8',\n",
       "       '6.1', '6.7', '5.4', '4', '4.9', '4.5', '9.3', '6.2', '4.2', '6',\n",
       "       '3.7', '4.1', '5.8', '5.6', '5.5', '4.4', '4.6', '5.9', '3.9',\n",
       "       '3.1', '2.9', '5.2', '3.3', '4.7', '5.1', '3.5', '2.5', '1.9', '3',\n",
       "       '2.7', '2.2', '2', '9.5', '2.1', '3.6', '2.8', '1.8', '3.8', '0',\n",
       "       '1.6', '9.6', '2.4', '1.7', '1.1', '0.3', '1.5', '0.7', '1.2',\n",
       "       '2.3', '0.5', '0.6', '1.4', '0.9', '1', '1.3', '0.2', '9.7'],\n",
       "      dtype=object)"
      ]
     },
     "execution_count": 109,
     "metadata": {},
     "output_type": "execute_result"
    }
   ],
   "source": [
    "data['User_Score'].unique()"
   ]
  },
  {
   "cell_type": "code",
   "execution_count": 110,
   "id": "2a65a11d-902d-42f3-99d0-47ac65b4c17f",
   "metadata": {},
   "outputs": [
    {
     "data": {
      "text/plain": [
       "dtype('O')"
      ]
     },
     "execution_count": 110,
     "metadata": {},
     "output_type": "execute_result"
    }
   ],
   "source": [
    "data['User_Score'].dtype"
   ]
  },
  {
   "cell_type": "markdown",
   "id": "cf8a366f-8b8e-4d67-908e-18bb69b06bb6",
   "metadata": {},
   "source": [
    "# checking null values"
   ]
  },
  {
   "cell_type": "code",
   "execution_count": 111,
   "id": "03aa1d75-c730-46c0-883c-df2844ae745a",
   "metadata": {},
   "outputs": [
    {
     "data": {
      "text/plain": [
       "Name                  2\n",
       "Platform              0\n",
       "Year_of_Release     232\n",
       "Genre                 2\n",
       "Publisher            49\n",
       "NA_Sales              0\n",
       "EU_Sales              0\n",
       "JP_Sales              0\n",
       "Critic_Score       7359\n",
       "Critic_Count       7359\n",
       "User_Score         5816\n",
       "User_Count         7780\n",
       "Developer          5747\n",
       "Rating             5872\n",
       "Global_Sales          0\n",
       "dtype: int64"
      ]
     },
     "execution_count": 111,
     "metadata": {},
     "output_type": "execute_result"
    }
   ],
   "source": [
    "#checking null values\n",
    "data.isnull().sum()"
   ]
  },
  {
   "cell_type": "code",
   "execution_count": 112,
   "id": "0bbab25b-3800-4e9d-a5d4-38ddf8f11f34",
   "metadata": {},
   "outputs": [
    {
     "data": {
      "text/plain": [
       "<AxesSubplot:>"
      ]
     },
     "execution_count": 112,
     "metadata": {},
     "output_type": "execute_result"
    },
    {
     "data": {
      "image/png": "[encoded data removed]",
      "text/plain": [
       "<Figure size 432x288 with 1 Axes>"
      ]
     },
     "metadata": {
      "needs_background": "light"
     },
     "output_type": "display_data"
    }
   ],
   "source": [
    "sns.heatmap(data.isnull(), cbar=False)"
   ]
  },
  {
   "cell_type": "code",
   "execution_count": 113,
   "id": "2b76aeba-200c-4cec-8e46-b935979dbd29",
   "metadata": {},
   "outputs": [
    {
     "data": {
      "text/html": [
       "<div>\n",
       "<style scoped>\n",
       "    .dataframe tbody tr th:only-of-type {\n",
       "        vertical-align: middle;\n",
       "    }\n",
       "\n",
       "    .dataframe tbody tr th {\n",
       "        vertical-align: top;\n",
       "    }\n",
       "\n",
       "    .dataframe thead th {\n",
       "        text-align: right;\n",
       "    }\n",
       "</style>\n",
       "<table border=\"1\" class=\"dataframe\">\n",
       "  <thead>\n",
       "    <tr style=\"text-align: right;\">\n",
       "      <th></th>\n",
       "      <th>Platform</th>\n",
       "      <th>Genre</th>\n",
       "      <th>NA_Sales</th>\n",
       "      <th>EU_Sales</th>\n",
       "      <th>JP_Sales</th>\n",
       "      <th>Global_Sales</th>\n",
       "    </tr>\n",
       "  </thead>\n",
       "  <tbody>\n",
       "    <tr>\n",
       "      <th>0</th>\n",
       "      <td>Wii</td>\n",
       "      <td>Sports</td>\n",
       "      <td>41.36</td>\n",
       "      <td>28.96</td>\n",
       "      <td>3.77</td>\n",
       "      <td>82.53</td>\n",
       "    </tr>\n",
       "    <tr>\n",
       "      <th>1</th>\n",
       "      <td>NES</td>\n",
       "      <td>Platform</td>\n",
       "      <td>29.08</td>\n",
       "      <td>3.58</td>\n",
       "      <td>6.81</td>\n",
       "      <td>40.24</td>\n",
       "    </tr>\n",
       "    <tr>\n",
       "      <th>2</th>\n",
       "      <td>Wii</td>\n",
       "      <td>Racing</td>\n",
       "      <td>15.68</td>\n",
       "      <td>12.76</td>\n",
       "      <td>3.79</td>\n",
       "      <td>35.52</td>\n",
       "    </tr>\n",
       "    <tr>\n",
       "      <th>3</th>\n",
       "      <td>Wii</td>\n",
       "      <td>Sports</td>\n",
       "      <td>15.61</td>\n",
       "      <td>10.93</td>\n",
       "      <td>3.28</td>\n",
       "      <td>32.77</td>\n",
       "    </tr>\n",
       "    <tr>\n",
       "      <th>4</th>\n",
       "      <td>GB</td>\n",
       "      <td>Role-Playing</td>\n",
       "      <td>11.27</td>\n",
       "      <td>8.89</td>\n",
       "      <td>10.22</td>\n",
       "      <td>31.37</td>\n",
       "    </tr>\n",
       "  </tbody>\n",
       "</table>\n",
       "</div>"
      ],
      "text/plain": [
       "  Platform         Genre  NA_Sales  EU_Sales  JP_Sales  Global_Sales\n",
       "0      Wii        Sports     41.36     28.96      3.77         82.53\n",
       "1      NES      Platform     29.08      3.58      6.81         40.24\n",
       "2      Wii        Racing     15.68     12.76      3.79         35.52\n",
       "3      Wii        Sports     15.61     10.93      3.28         32.77\n",
       "4       GB  Role-Playing     11.27      8.89     10.22         31.37"
      ]
     },
     "execution_count": 113,
     "metadata": {},
     "output_type": "execute_result"
    }
   ],
   "source": [
    "#droping column of nan values \n",
    "data = data.drop([\"Name\",\"Publisher\",\"Developer\",\"Year_of_Release\",\"Critic_Score\",\"Critic_Count\",\"User_Score\",\"User_Count\",\"Rating\"],axis=1)\n",
    "data.head()"
   ]
  },
  {
   "cell_type": "code",
   "execution_count": 116,
   "id": "04f026ba-4dda-4e96-994f-fc909e1867d4",
   "metadata": {},
   "outputs": [
    {
     "data": {
      "text/plain": [
       "Platform         object\n",
       "Genre            object\n",
       "NA_Sales        float64\n",
       "EU_Sales        float64\n",
       "JP_Sales        float64\n",
       "Global_Sales    float64\n",
       "dtype: object"
      ]
     },
     "execution_count": 116,
     "metadata": {},
     "output_type": "execute_result"
    }
   ],
   "source": [
    "data.dtypes"
   ]
  },
  {
   "cell_type": "code",
   "execution_count": 117,
   "id": "5234c366-9932-43d3-bc75-80d4b6474002",
   "metadata": {},
   "outputs": [
    {
     "data": {
      "text/plain": [
       "Index(['NA_Sales', 'EU_Sales', 'JP_Sales', 'Global_Sales'], dtype='object')"
      ]
     },
     "execution_count": 117,
     "metadata": {},
     "output_type": "execute_result"
    }
   ],
   "source": [
    "#disply numeric features\n",
    "data_numeric_fea = data.select_dtypes(include=np.number)\n",
    "data_numeric_fea.columns"
   ]
  },
  {
   "cell_type": "code",
   "execution_count": 118,
   "id": "3050679b-3d5a-4421-b05f-6f4330d074c9",
   "metadata": {},
   "outputs": [
    {
     "data": {
      "text/plain": [
       "<function matplotlib.pyplot.show(close=None, block=None)>"
      ]
     },
     "execution_count": 118,
     "metadata": {},
     "output_type": "execute_result"
    },
    {
     "data": {
      "image/png": "[encoded data removed]",
      "text/plain": [
       "<Figure size 1440x720 with 4 Axes>"
      ]
     },
     "metadata": {
      "needs_background": "light"
     },
     "output_type": "display_data"
    }
   ],
   "source": [
    "#ploting histogram\n",
    "data.hist( color = \"blue\",figsize=([20,10]))\n",
    "plt.show"
   ]
  },
  {
   "cell_type": "code",
   "execution_count": 119,
   "id": "a29733b3-1fee-46e3-a436-68c33d7f092e",
   "metadata": {},
   "outputs": [
    {
     "data": {
      "image/png": "[encoded data removed]",
      "text/plain": [
       "<Figure size 432x288 with 1 Axes>"
      ]
     },
     "metadata": {
      "needs_background": "light"
     },
     "output_type": "display_data"
    }
   ],
   "source": [
    "#ploting histogram of target\n",
    "plt.hist(data[\"Global_Sales\"], color = 'red')\n",
    "plt.show()"
   ]
  },
  {
   "cell_type": "code",
   "execution_count": 120,
   "id": "a28b30d9-77a8-4ca3-815c-3ae657f3b4fe",
   "metadata": {},
   "outputs": [
    {
     "name": "stderr",
     "output_type": "stream",
     "text": [
      "C:\\Users\\Rakesh M V\\AppData\\Local\\Programs\\Python\\Python310\\lib\\site-packages\\seaborn\\_decorators.py:36: FutureWarning: Pass the following variable as a keyword arg: x. From version 0.12, the only valid positional argument will be `data`, and passing other arguments without an explicit keyword will result in an error or misinterpretation.\n",
      "  warnings.warn(\n"
     ]
    },
    {
     "data": {
      "text/plain": [
       "<AxesSubplot:xlabel='Global_Sales'>"
      ]
     },
     "execution_count": 120,
     "metadata": {},
     "output_type": "execute_result"
    },
    {
     "data": {
      "image/png": "[encoded data removed]",
      "text/plain": [
       "<Figure size 432x288 with 1 Axes>"
      ]
     },
     "metadata": {
      "needs_background": "light"
     },
     "output_type": "display_data"
    }
   ],
   "source": [
    "#ploting boxplot for checking outliers\n",
    "sns.boxplot(data['Global_Sales'])"
   ]
  },
  {
   "cell_type": "code",
   "execution_count": 121,
   "id": "2ad66d8c-3925-40d9-af69-5d1816504906",
   "metadata": {},
   "outputs": [
    {
     "data": {
      "text/plain": [
       "(14574, 6)"
      ]
     },
     "execution_count": 121,
     "metadata": {},
     "output_type": "execute_result"
    }
   ],
   "source": [
    "#removing outlier\n",
    "data = data[data['Global_Sales'] < 40]\n",
    "data.shape"
   ]
  },
  {
   "cell_type": "code",
   "execution_count": 122,
   "id": "5e2fb130-6040-4c98-9909-9201b3447e5d",
   "metadata": {},
   "outputs": [
    {
     "data": {
      "text/plain": [
       "Platform         object\n",
       "Genre            object\n",
       "NA_Sales        float64\n",
       "EU_Sales        float64\n",
       "JP_Sales        float64\n",
       "Global_Sales    float64\n",
       "dtype: object"
      ]
     },
     "execution_count": 122,
     "metadata": {},
     "output_type": "execute_result"
    }
   ],
   "source": [
    "data.dtypes"
   ]
  },
  {
   "cell_type": "code",
   "execution_count": 123,
   "id": "5f31ae2d-e74b-4bb7-9aaa-bcdf0bf8d534",
   "metadata": {},
   "outputs": [
    {
     "data": {
      "text/plain": [
       "Platform        0\n",
       "Genre           2\n",
       "NA_Sales        0\n",
       "EU_Sales        0\n",
       "JP_Sales        0\n",
       "Global_Sales    0\n",
       "dtype: int64"
      ]
     },
     "execution_count": 123,
     "metadata": {},
     "output_type": "execute_result"
    }
   ],
   "source": [
    "#cheching null values \n",
    "data.isnull().sum()"
   ]
  },
  {
   "cell_type": "code",
   "execution_count": 124,
   "id": "fe8cae1f-8151-40f1-80ed-5379da2d5653",
   "metadata": {},
   "outputs": [
    {
     "data": {
      "text/plain": [
       "<AxesSubplot:>"
      ]
     },
     "execution_count": 124,
     "metadata": {},
     "output_type": "execute_result"
    },
    {
     "data": {
      "image/png": "[encoded data removed]",
      "text/plain": [
       "<Figure size 432x288 with 1 Axes>"
      ]
     },
     "metadata": {
      "needs_background": "light"
     },
     "output_type": "display_data"
    }
   ],
   "source": [
    "sns.heatmap(data.isnull(), cbar=False)"
   ]
  },
  {
   "cell_type": "code",
   "execution_count": 125,
   "id": "1be57611-e58a-46cd-8d93-6a37407b6d04",
   "metadata": {
    "tags": []
   },
   "outputs": [
    {
     "data": {
      "text/plain": [
       "(14574, 6)"
      ]
     },
     "execution_count": 125,
     "metadata": {},
     "output_type": "execute_result"
    }
   ],
   "source": [
    "data.shape"
   ]
  },
  {
   "cell_type": "code",
   "execution_count": 126,
   "id": "1c3eb027-43e7-445e-8ebc-ebffc4ab364f",
   "metadata": {},
   "outputs": [
    {
     "data": {
      "text/plain": [
       "<AxesSubplot:>"
      ]
     },
     "execution_count": 126,
     "metadata": {},
     "output_type": "execute_result"
    },
    {
     "data": {
      "image/png": "[encoded data removed]",
      "text/plain": [
       "<Figure size 1440x360 with 1 Axes>"
      ]
     },
     "metadata": {
      "needs_background": "light"
     },
     "output_type": "display_data"
    }
   ],
   "source": [
    "#ploting box plot \n",
    "data.boxplot(figsize=[20,5])"
   ]
  },
  {
   "cell_type": "code",
   "execution_count": 127,
   "id": "827a7c0b-f59e-4351-b927-0090f50331bf",
   "metadata": {},
   "outputs": [
    {
     "data": {
      "text/html": [
       "<div>\n",
       "<style scoped>\n",
       "    .dataframe tbody tr th:only-of-type {\n",
       "        vertical-align: middle;\n",
       "    }\n",
       "\n",
       "    .dataframe tbody tr th {\n",
       "        vertical-align: top;\n",
       "    }\n",
       "\n",
       "    .dataframe thead th {\n",
       "        text-align: right;\n",
       "    }\n",
       "</style>\n",
       "<table border=\"1\" class=\"dataframe\">\n",
       "  <thead>\n",
       "    <tr style=\"text-align: right;\">\n",
       "      <th></th>\n",
       "      <th>NA_Sales</th>\n",
       "      <th>EU_Sales</th>\n",
       "      <th>JP_Sales</th>\n",
       "      <th>Global_Sales</th>\n",
       "    </tr>\n",
       "  </thead>\n",
       "  <tbody>\n",
       "    <tr>\n",
       "      <th>NA_Sales</th>\n",
       "      <td>1.000000</td>\n",
       "      <td>0.731564</td>\n",
       "      <td>0.422839</td>\n",
       "      <td>0.927701</td>\n",
       "    </tr>\n",
       "    <tr>\n",
       "      <th>EU_Sales</th>\n",
       "      <td>0.731564</td>\n",
       "      <td>1.000000</td>\n",
       "      <td>0.435561</td>\n",
       "      <td>0.888821</td>\n",
       "    </tr>\n",
       "    <tr>\n",
       "      <th>JP_Sales</th>\n",
       "      <td>0.422839</td>\n",
       "      <td>0.435561</td>\n",
       "      <td>1.000000</td>\n",
       "      <td>0.617421</td>\n",
       "    </tr>\n",
       "    <tr>\n",
       "      <th>Global_Sales</th>\n",
       "      <td>0.927701</td>\n",
       "      <td>0.888821</td>\n",
       "      <td>0.617421</td>\n",
       "      <td>1.000000</td>\n",
       "    </tr>\n",
       "  </tbody>\n",
       "</table>\n",
       "</div>"
      ],
      "text/plain": [
       "              NA_Sales  EU_Sales  JP_Sales  Global_Sales\n",
       "NA_Sales      1.000000  0.731564  0.422839      0.927701\n",
       "EU_Sales      0.731564  1.000000  0.435561      0.888821\n",
       "JP_Sales      0.422839  0.435561  1.000000      0.617421\n",
       "Global_Sales  0.927701  0.888821  0.617421      1.000000"
      ]
     },
     "execution_count": 127,
     "metadata": {},
     "output_type": "execute_result"
    }
   ],
   "source": [
    "#checking co-relation\n",
    "correlation = data.corr()\n",
    "correlation"
   ]
  },
  {
   "cell_type": "code",
   "execution_count": 128,
   "id": "1917a9c7-0f89-4533-bf6d-31ba92e8b8dc",
   "metadata": {},
   "outputs": [
    {
     "data": {
      "image/png": "[encoded data removed]",
      "text/plain": [
       "<Figure size 2520x1800 with 2 Axes>"
      ]
     },
     "metadata": {
      "needs_background": "light"
     },
     "output_type": "display_data"
    }
   ],
   "source": [
    "#plotong co-relation\n",
    "plt.figure(figsize = (35,25))\n",
    "sns.heatmap(correlation, annot = True, vmax = 1.0, vmin = -1.0, cmap = 'bwr', annot_kws = {\"size\": 11.5})\n",
    "plt.show()"
   ]
  },
  {
   "cell_type": "code",
   "execution_count": 129,
   "id": "a1077931-f4c0-44e3-bc56-408139495ccf",
   "metadata": {},
   "outputs": [
    {
     "data": {
      "text/plain": [
       "Index(['NA_Sales', 'EU_Sales', 'JP_Sales', 'Global_Sales'], dtype='object')"
      ]
     },
     "execution_count": 129,
     "metadata": {},
     "output_type": "execute_result"
    }
   ],
   "source": [
    "#desplay numeric featues\n",
    "data_numeric = data.select_dtypes(include=np.number)\n",
    "data_numeric.columns"
   ]
  },
  {
   "cell_type": "code",
   "execution_count": 130,
   "id": "83fa538c-8461-4955-9dce-d53eea57758f",
   "metadata": {},
   "outputs": [
    {
     "data": {
      "text/plain": [
       "Index(['Platform', 'Genre'], dtype='object')"
      ]
     },
     "execution_count": 130,
     "metadata": {},
     "output_type": "execute_result"
    }
   ],
   "source": [
    "#display catogoric features\n",
    "data_categoric = data.select_dtypes(include = object)\n",
    "data_categoric.columns"
   ]
  },
  {
   "cell_type": "code",
   "execution_count": 132,
   "id": "b0328726-6e89-473e-aeff-e05e00c2467e",
   "metadata": {},
   "outputs": [
    {
     "data": {
      "text/plain": [
       "Index(['Platform', 'Genre'], dtype='object')"
      ]
     },
     "execution_count": 132,
     "metadata": {},
     "output_type": "execute_result"
    }
   ],
   "source": [
    "#display catogoric columns\n",
    "data_categoric.columns"
   ]
  },
  {
   "cell_type": "markdown",
   "id": "b1001922-aa70-4382-a3c7-5e30f7d735d2",
   "metadata": {},
   "source": [
    "## enconding"
   ]
  },
  {
   "cell_type": "code",
   "execution_count": 133,
   "id": "2c808ec8-7bb7-4c9f-a6f7-5a1969fcb6e3",
   "metadata": {},
   "outputs": [],
   "source": [
    "#using ecoding technique\n",
    "dummy_encode = pd.get_dummies(data_categoric, drop_first = True)"
   ]
  },
  {
   "cell_type": "code",
   "execution_count": 134,
   "id": "bcdd1a80-4afa-4705-b529-282f42b3a4e4",
   "metadata": {},
   "outputs": [
    {
     "data": {
      "text/html": [
       "<div>\n",
       "<style scoped>\n",
       "    .dataframe tbody tr th:only-of-type {\n",
       "        vertical-align: middle;\n",
       "    }\n",
       "\n",
       "    .dataframe tbody tr th {\n",
       "        vertical-align: top;\n",
       "    }\n",
       "\n",
       "    .dataframe thead th {\n",
       "        text-align: right;\n",
       "    }\n",
       "</style>\n",
       "<table border=\"1\" class=\"dataframe\">\n",
       "  <thead>\n",
       "    <tr style=\"text-align: right;\">\n",
       "      <th></th>\n",
       "      <th>Platform</th>\n",
       "      <th>Genre</th>\n",
       "    </tr>\n",
       "  </thead>\n",
       "  <tbody>\n",
       "    <tr>\n",
       "      <th>2</th>\n",
       "      <td>Wii</td>\n",
       "      <td>Racing</td>\n",
       "    </tr>\n",
       "    <tr>\n",
       "      <th>3</th>\n",
       "      <td>Wii</td>\n",
       "      <td>Sports</td>\n",
       "    </tr>\n",
       "    <tr>\n",
       "      <th>4</th>\n",
       "      <td>GB</td>\n",
       "      <td>Role-Playing</td>\n",
       "    </tr>\n",
       "    <tr>\n",
       "      <th>5</th>\n",
       "      <td>GB</td>\n",
       "      <td>Puzzle</td>\n",
       "    </tr>\n",
       "    <tr>\n",
       "      <th>6</th>\n",
       "      <td>DS</td>\n",
       "      <td>Platform</td>\n",
       "    </tr>\n",
       "  </tbody>\n",
       "</table>\n",
       "</div>"
      ],
      "text/plain": [
       "  Platform         Genre\n",
       "2      Wii        Racing\n",
       "3      Wii        Sports\n",
       "4       GB  Role-Playing\n",
       "5       GB        Puzzle\n",
       "6       DS      Platform"
      ]
     },
     "execution_count": 134,
     "metadata": {},
     "output_type": "execute_result"
    }
   ],
   "source": [
    "data_categoric.head()"
   ]
  },
  {
   "cell_type": "code",
   "execution_count": 135,
   "id": "50540e10-6f1d-4c41-bf5b-4b13fc40c7b8",
   "metadata": {},
   "outputs": [
    {
     "data": {
      "text/html": [
       "<div>\n",
       "<style scoped>\n",
       "    .dataframe tbody tr th:only-of-type {\n",
       "        vertical-align: middle;\n",
       "    }\n",
       "\n",
       "    .dataframe tbody tr th {\n",
       "        vertical-align: top;\n",
       "    }\n",
       "\n",
       "    .dataframe thead th {\n",
       "        text-align: right;\n",
       "    }\n",
       "</style>\n",
       "<table border=\"1\" class=\"dataframe\">\n",
       "  <thead>\n",
       "    <tr style=\"text-align: right;\">\n",
       "      <th></th>\n",
       "      <th>Platform_3DO</th>\n",
       "      <th>Platform_3DS</th>\n",
       "      <th>Platform_DC</th>\n",
       "      <th>Platform_DS</th>\n",
       "      <th>Platform_GB</th>\n",
       "      <th>Platform_GBA</th>\n",
       "      <th>Platform_GC</th>\n",
       "      <th>Platform_GEN</th>\n",
       "      <th>Platform_GG</th>\n",
       "      <th>Platform_N64</th>\n",
       "      <th>...</th>\n",
       "      <th>Genre_Fighting</th>\n",
       "      <th>Genre_Misc</th>\n",
       "      <th>Genre_Platform</th>\n",
       "      <th>Genre_Puzzle</th>\n",
       "      <th>Genre_Racing</th>\n",
       "      <th>Genre_Role-Playing</th>\n",
       "      <th>Genre_Shooter</th>\n",
       "      <th>Genre_Simulation</th>\n",
       "      <th>Genre_Sports</th>\n",
       "      <th>Genre_Strategy</th>\n",
       "    </tr>\n",
       "  </thead>\n",
       "  <tbody>\n",
       "    <tr>\n",
       "      <th>2</th>\n",
       "      <td>0</td>\n",
       "      <td>0</td>\n",
       "      <td>0</td>\n",
       "      <td>0</td>\n",
       "      <td>0</td>\n",
       "      <td>0</td>\n",
       "      <td>0</td>\n",
       "      <td>0</td>\n",
       "      <td>0</td>\n",
       "      <td>0</td>\n",
       "      <td>...</td>\n",
       "      <td>0</td>\n",
       "      <td>0</td>\n",
       "      <td>0</td>\n",
       "      <td>0</td>\n",
       "      <td>1</td>\n",
       "      <td>0</td>\n",
       "      <td>0</td>\n",
       "      <td>0</td>\n",
       "      <td>0</td>\n",
       "      <td>0</td>\n",
       "    </tr>\n",
       "    <tr>\n",
       "      <th>3</th>\n",
       "      <td>0</td>\n",
       "      <td>0</td>\n",
       "      <td>0</td>\n",
       "      <td>0</td>\n",
       "      <td>0</td>\n",
       "      <td>0</td>\n",
       "      <td>0</td>\n",
       "      <td>0</td>\n",
       "      <td>0</td>\n",
       "      <td>0</td>\n",
       "      <td>...</td>\n",
       "      <td>0</td>\n",
       "      <td>0</td>\n",
       "      <td>0</td>\n",
       "      <td>0</td>\n",
       "      <td>0</td>\n",
       "      <td>0</td>\n",
       "      <td>0</td>\n",
       "      <td>0</td>\n",
       "      <td>1</td>\n",
       "      <td>0</td>\n",
       "    </tr>\n",
       "    <tr>\n",
       "      <th>4</th>\n",
       "      <td>0</td>\n",
       "      <td>0</td>\n",
       "      <td>0</td>\n",
       "      <td>0</td>\n",
       "      <td>1</td>\n",
       "      <td>0</td>\n",
       "      <td>0</td>\n",
       "      <td>0</td>\n",
       "      <td>0</td>\n",
       "      <td>0</td>\n",
       "      <td>...</td>\n",
       "      <td>0</td>\n",
       "      <td>0</td>\n",
       "      <td>0</td>\n",
       "      <td>0</td>\n",
       "      <td>0</td>\n",
       "      <td>1</td>\n",
       "      <td>0</td>\n",
       "      <td>0</td>\n",
       "      <td>0</td>\n",
       "      <td>0</td>\n",
       "    </tr>\n",
       "    <tr>\n",
       "      <th>5</th>\n",
       "      <td>0</td>\n",
       "      <td>0</td>\n",
       "      <td>0</td>\n",
       "      <td>0</td>\n",
       "      <td>1</td>\n",
       "      <td>0</td>\n",
       "      <td>0</td>\n",
       "      <td>0</td>\n",
       "      <td>0</td>\n",
       "      <td>0</td>\n",
       "      <td>...</td>\n",
       "      <td>0</td>\n",
       "      <td>0</td>\n",
       "      <td>0</td>\n",
       "      <td>1</td>\n",
       "      <td>0</td>\n",
       "      <td>0</td>\n",
       "      <td>0</td>\n",
       "      <td>0</td>\n",
       "      <td>0</td>\n",
       "      <td>0</td>\n",
       "    </tr>\n",
       "    <tr>\n",
       "      <th>6</th>\n",
       "      <td>0</td>\n",
       "      <td>0</td>\n",
       "      <td>0</td>\n",
       "      <td>1</td>\n",
       "      <td>0</td>\n",
       "      <td>0</td>\n",
       "      <td>0</td>\n",
       "      <td>0</td>\n",
       "      <td>0</td>\n",
       "      <td>0</td>\n",
       "      <td>...</td>\n",
       "      <td>0</td>\n",
       "      <td>0</td>\n",
       "      <td>1</td>\n",
       "      <td>0</td>\n",
       "      <td>0</td>\n",
       "      <td>0</td>\n",
       "      <td>0</td>\n",
       "      <td>0</td>\n",
       "      <td>0</td>\n",
       "      <td>0</td>\n",
       "    </tr>\n",
       "  </tbody>\n",
       "</table>\n",
       "<p>5 rows × 41 columns</p>\n",
       "</div>"
      ],
      "text/plain": [
       "   Platform_3DO  Platform_3DS  Platform_DC  Platform_DS  Platform_GB  \\\n",
       "2             0             0            0            0            0   \n",
       "3             0             0            0            0            0   \n",
       "4             0             0            0            0            1   \n",
       "5             0             0            0            0            1   \n",
       "6             0             0            0            1            0   \n",
       "\n",
       "   Platform_GBA  Platform_GC  Platform_GEN  Platform_GG  Platform_N64  ...  \\\n",
       "2             0            0             0            0             0  ...   \n",
       "3             0            0             0            0             0  ...   \n",
       "4             0            0             0            0             0  ...   \n",
       "5             0            0             0            0             0  ...   \n",
       "6             0            0             0            0             0  ...   \n",
       "\n",
       "   Genre_Fighting  Genre_Misc  Genre_Platform  Genre_Puzzle  Genre_Racing  \\\n",
       "2               0           0               0             0             1   \n",
       "3               0           0               0             0             0   \n",
       "4               0           0               0             0             0   \n",
       "5               0           0               0             1             0   \n",
       "6               0           0               1             0             0   \n",
       "\n",
       "   Genre_Role-Playing  Genre_Shooter  Genre_Simulation  Genre_Sports  \\\n",
       "2                   0              0                 0             0   \n",
       "3                   0              0                 0             1   \n",
       "4                   1              0                 0             0   \n",
       "5                   0              0                 0             0   \n",
       "6                   0              0                 0             0   \n",
       "\n",
       "   Genre_Strategy  \n",
       "2               0  \n",
       "3               0  \n",
       "4               0  \n",
       "5               0  \n",
       "6               0  \n",
       "\n",
       "[5 rows x 41 columns]"
      ]
     },
     "execution_count": 135,
     "metadata": {},
     "output_type": "execute_result"
    }
   ],
   "source": [
    "dummy_encode.head()"
   ]
  },
  {
   "cell_type": "code",
   "execution_count": 136,
   "id": "84540177-4758-4221-99cd-b7cb6d8a7734",
   "metadata": {},
   "outputs": [
    {
     "data": {
      "text/html": [
       "<div>\n",
       "<style scoped>\n",
       "    .dataframe tbody tr th:only-of-type {\n",
       "        vertical-align: middle;\n",
       "    }\n",
       "\n",
       "    .dataframe tbody tr th {\n",
       "        vertical-align: top;\n",
       "    }\n",
       "\n",
       "    .dataframe thead th {\n",
       "        text-align: right;\n",
       "    }\n",
       "</style>\n",
       "<table border=\"1\" class=\"dataframe\">\n",
       "  <thead>\n",
       "    <tr style=\"text-align: right;\">\n",
       "      <th></th>\n",
       "      <th>NA_Sales</th>\n",
       "      <th>EU_Sales</th>\n",
       "      <th>JP_Sales</th>\n",
       "      <th>Global_Sales</th>\n",
       "      <th>Platform_3DO</th>\n",
       "      <th>Platform_3DS</th>\n",
       "      <th>Platform_DC</th>\n",
       "      <th>Platform_DS</th>\n",
       "      <th>Platform_GB</th>\n",
       "      <th>Platform_GBA</th>\n",
       "      <th>...</th>\n",
       "      <th>Genre_Fighting</th>\n",
       "      <th>Genre_Misc</th>\n",
       "      <th>Genre_Platform</th>\n",
       "      <th>Genre_Puzzle</th>\n",
       "      <th>Genre_Racing</th>\n",
       "      <th>Genre_Role-Playing</th>\n",
       "      <th>Genre_Shooter</th>\n",
       "      <th>Genre_Simulation</th>\n",
       "      <th>Genre_Sports</th>\n",
       "      <th>Genre_Strategy</th>\n",
       "    </tr>\n",
       "  </thead>\n",
       "  <tbody>\n",
       "    <tr>\n",
       "      <th>2</th>\n",
       "      <td>15.68</td>\n",
       "      <td>12.76</td>\n",
       "      <td>3.79</td>\n",
       "      <td>35.52</td>\n",
       "      <td>0</td>\n",
       "      <td>0</td>\n",
       "      <td>0</td>\n",
       "      <td>0</td>\n",
       "      <td>0</td>\n",
       "      <td>0</td>\n",
       "      <td>...</td>\n",
       "      <td>0</td>\n",
       "      <td>0</td>\n",
       "      <td>0</td>\n",
       "      <td>0</td>\n",
       "      <td>1</td>\n",
       "      <td>0</td>\n",
       "      <td>0</td>\n",
       "      <td>0</td>\n",
       "      <td>0</td>\n",
       "      <td>0</td>\n",
       "    </tr>\n",
       "    <tr>\n",
       "      <th>3</th>\n",
       "      <td>15.61</td>\n",
       "      <td>10.93</td>\n",
       "      <td>3.28</td>\n",
       "      <td>32.77</td>\n",
       "      <td>0</td>\n",
       "      <td>0</td>\n",
       "      <td>0</td>\n",
       "      <td>0</td>\n",
       "      <td>0</td>\n",
       "      <td>0</td>\n",
       "      <td>...</td>\n",
       "      <td>0</td>\n",
       "      <td>0</td>\n",
       "      <td>0</td>\n",
       "      <td>0</td>\n",
       "      <td>0</td>\n",
       "      <td>0</td>\n",
       "      <td>0</td>\n",
       "      <td>0</td>\n",
       "      <td>1</td>\n",
       "      <td>0</td>\n",
       "    </tr>\n",
       "    <tr>\n",
       "      <th>4</th>\n",
       "      <td>11.27</td>\n",
       "      <td>8.89</td>\n",
       "      <td>10.22</td>\n",
       "      <td>31.37</td>\n",
       "      <td>0</td>\n",
       "      <td>0</td>\n",
       "      <td>0</td>\n",
       "      <td>0</td>\n",
       "      <td>1</td>\n",
       "      <td>0</td>\n",
       "      <td>...</td>\n",
       "      <td>0</td>\n",
       "      <td>0</td>\n",
       "      <td>0</td>\n",
       "      <td>0</td>\n",
       "      <td>0</td>\n",
       "      <td>1</td>\n",
       "      <td>0</td>\n",
       "      <td>0</td>\n",
       "      <td>0</td>\n",
       "      <td>0</td>\n",
       "    </tr>\n",
       "    <tr>\n",
       "      <th>5</th>\n",
       "      <td>23.20</td>\n",
       "      <td>2.26</td>\n",
       "      <td>4.22</td>\n",
       "      <td>30.26</td>\n",
       "      <td>0</td>\n",
       "      <td>0</td>\n",
       "      <td>0</td>\n",
       "      <td>0</td>\n",
       "      <td>1</td>\n",
       "      <td>0</td>\n",
       "      <td>...</td>\n",
       "      <td>0</td>\n",
       "      <td>0</td>\n",
       "      <td>0</td>\n",
       "      <td>1</td>\n",
       "      <td>0</td>\n",
       "      <td>0</td>\n",
       "      <td>0</td>\n",
       "      <td>0</td>\n",
       "      <td>0</td>\n",
       "      <td>0</td>\n",
       "    </tr>\n",
       "    <tr>\n",
       "      <th>6</th>\n",
       "      <td>11.28</td>\n",
       "      <td>9.14</td>\n",
       "      <td>6.50</td>\n",
       "      <td>29.80</td>\n",
       "      <td>0</td>\n",
       "      <td>0</td>\n",
       "      <td>0</td>\n",
       "      <td>1</td>\n",
       "      <td>0</td>\n",
       "      <td>0</td>\n",
       "      <td>...</td>\n",
       "      <td>0</td>\n",
       "      <td>0</td>\n",
       "      <td>1</td>\n",
       "      <td>0</td>\n",
       "      <td>0</td>\n",
       "      <td>0</td>\n",
       "      <td>0</td>\n",
       "      <td>0</td>\n",
       "      <td>0</td>\n",
       "      <td>0</td>\n",
       "    </tr>\n",
       "  </tbody>\n",
       "</table>\n",
       "<p>5 rows × 45 columns</p>\n",
       "</div>"
      ],
      "text/plain": [
       "   NA_Sales  EU_Sales  JP_Sales  Global_Sales  Platform_3DO  Platform_3DS  \\\n",
       "2     15.68     12.76      3.79         35.52             0             0   \n",
       "3     15.61     10.93      3.28         32.77             0             0   \n",
       "4     11.27      8.89     10.22         31.37             0             0   \n",
       "5     23.20      2.26      4.22         30.26             0             0   \n",
       "6     11.28      9.14      6.50         29.80             0             0   \n",
       "\n",
       "   Platform_DC  Platform_DS  Platform_GB  Platform_GBA  ...  Genre_Fighting  \\\n",
       "2            0            0            0             0  ...               0   \n",
       "3            0            0            0             0  ...               0   \n",
       "4            0            0            1             0  ...               0   \n",
       "5            0            0            1             0  ...               0   \n",
       "6            0            1            0             0  ...               0   \n",
       "\n",
       "   Genre_Misc  Genre_Platform  Genre_Puzzle  Genre_Racing  Genre_Role-Playing  \\\n",
       "2           0               0             0             1                   0   \n",
       "3           0               0             0             0                   0   \n",
       "4           0               0             0             0                   1   \n",
       "5           0               0             1             0                   0   \n",
       "6           0               1             0             0                   0   \n",
       "\n",
       "   Genre_Shooter  Genre_Simulation  Genre_Sports  Genre_Strategy  \n",
       "2              0                 0             0               0  \n",
       "3              0                 0             1               0  \n",
       "4              0                 0             0               0  \n",
       "5              0                 0             0               0  \n",
       "6              0                 0             0               0  \n",
       "\n",
       "[5 rows x 45 columns]"
      ]
     },
     "execution_count": 136,
     "metadata": {},
     "output_type": "execute_result"
    }
   ],
   "source": [
    "#concatination of numeric and dummy\n",
    "data_dummy = pd.concat([data_numeric, dummy_encode], axis=1)\n",
    "data_dummy.head()"
   ]
  },
  {
   "cell_type": "code",
   "execution_count": 194,
   "id": "08dfc32b-7187-4246-b2a2-3e6dbff3514d",
   "metadata": {},
   "outputs": [],
   "source": [
    "#droping some rows which effect prediction\n",
    "data_dummy = data_dummy.drop(['Platform_3DO','Platform_GG','Platform_PCFX','Platform_TG16','Platform_WS'],axis=1)\n",
    "data_dummy\n"
   ]
  },
  {
   "cell_type": "code",
   "execution_count": 195,
   "id": "8d6e0d28-b4a6-41fd-96ba-f23276d29b0f",
   "metadata": {},
   "outputs": [
    {
     "data": {
      "text/plain": [
       "(14574, 40)"
      ]
     },
     "execution_count": 195,
     "metadata": {},
     "output_type": "execute_result"
    }
   ],
   "source": [
    "data_dummy.shape"
   ]
  },
  {
   "cell_type": "code",
   "execution_count": 196,
   "id": "bf4eb7e7-0304-4846-9377-9d749191ba7a",
   "metadata": {},
   "outputs": [
    {
     "name": "stdout",
     "output_type": "stream",
     "text": [
      "The shape of X_train is: (11659, 40)\n",
      "The shape of X_test is: (2915, 40)\n",
      "The shape of y_train is: (11659, 1)\n",
      "The shape of y_test is: (2915, 1)\n"
     ]
    }
   ],
   "source": [
    "# spliting data into test and train\n",
    "X = data_dummy.drop(['Global_Sales'], axis = 1)\n",
    "X = sm.add_constant(X)\n",
    "y = data_dummy[['Global_Sales']]\n",
    "X_train, X_test, y_train, y_test = train_test_split(X, y, test_size = 0.2, random_state = 1)\n",
    "print(\"The shape of X_train is:\",X_train.shape)\n",
    "print(\"The shape of X_test is:\",X_test.shape)\n",
    "print(\"The shape of y_train is:\",y_train.shape)\n",
    "print(\"The shape of y_test is:\",y_test.shape)"
   ]
  },
  {
   "cell_type": "markdown",
   "id": "8f700385-2f3d-4174-9973-a0aa01e22de9",
   "metadata": {},
   "source": [
    "# modelBuilding"
   ]
  },
  {
   "cell_type": "code",
   "execution_count": 197,
   "id": "a1673730-6b06-4f73-937c-e23be99d6629",
   "metadata": {},
   "outputs": [
    {
     "name": "stdout",
     "output_type": "stream",
     "text": [
      "                            OLS Regression Results                            \n",
      "==============================================================================\n",
      "Dep. Variable:           Global_Sales   R-squared:                       0.990\n",
      "Model:                            OLS   Adj. R-squared:                  0.990\n",
      "Method:                 Least Squares   F-statistic:                 3.087e+04\n",
      "Date:                Mon, 25 Apr 2022   Prob (F-statistic):               0.00\n",
      "Time:                        22:59:55   Log-Likelihood:                 6333.8\n",
      "No. Observations:               11659   AIC:                        -1.259e+04\n",
      "Df Residuals:                   11619   BIC:                        -1.229e+04\n",
      "Df Model:                          39                                         \n",
      "Covariance Type:            nonrobust                                         \n",
      "======================================================================================\n",
      "                         coef    std err          t      P>|t|      [0.025      0.975]\n",
      "--------------------------------------------------------------------------------------\n",
      "const                 -0.0438      0.013     -3.306      0.001      -0.070      -0.018\n",
      "NA_Sales               1.0791      0.003    377.513      0.000       1.074       1.085\n",
      "EU_Sales               1.1708      0.004    264.175      0.000       1.162       1.179\n",
      "JP_Sales               0.9647      0.005    189.830      0.000       0.955       0.975\n",
      "Platform_3DS           0.0479      0.015      3.147      0.002       0.018       0.078\n",
      "Platform_DC            0.0442      0.028      1.564      0.118      -0.011       0.099\n",
      "Platform_DS            0.0521      0.014      3.801      0.000       0.025       0.079\n",
      "Platform_GB           -0.0170      0.021     -0.806      0.420      -0.058       0.024\n",
      "Platform_GBA           0.0257      0.014      1.782      0.075      -0.003       0.054\n",
      "Platform_GC            0.0249      0.015      1.654      0.098      -0.005       0.054\n",
      "Platform_GEN          -0.0129      0.037     -0.351      0.725      -0.085       0.059\n",
      "Platform_N64           0.0049      0.016      0.302      0.763      -0.027       0.037\n",
      "Platform_NES           0.0206      0.021      0.975      0.330      -0.021       0.062\n",
      "Platform_NG            0.0552      0.059      0.932      0.351      -0.061       0.171\n",
      "Platform_PC            0.0398      0.014      2.786      0.005       0.012       0.068\n",
      "Platform_PS            0.0310      0.014      2.211      0.027       0.004       0.059\n",
      "Platform_PS2           0.0957      0.014      7.023      0.000       0.069       0.122\n",
      "Platform_PS3           0.0884      0.014      6.352      0.000       0.061       0.116\n",
      "Platform_PS4           0.0927      0.016      5.876      0.000       0.062       0.124\n",
      "Platform_PSP           0.0739      0.014      5.256      0.000       0.046       0.101\n",
      "Platform_PSV           0.0605      0.016      3.871      0.000       0.030       0.091\n",
      "Platform_SAT           0.0583      0.019      2.999      0.003       0.020       0.096\n",
      "Platform_SCD           0.0344      0.072      0.480      0.631      -0.106       0.175\n",
      "Platform_SNES          0.0452      0.017      2.648      0.008       0.012       0.079\n",
      "Platform_Wii           0.0459      0.014      3.285      0.001       0.018       0.073\n",
      "Platform_WiiU          0.0404      0.019      2.124      0.034       0.003       0.078\n",
      "Platform_X360          0.0397      0.014      2.857      0.004       0.012       0.067\n",
      "Platform_XB            0.0249      0.014      1.725      0.085      -0.003       0.053\n",
      "Platform_XOne          0.0412      0.017      2.444      0.015       0.008       0.074\n",
      "Genre_Adventure       -0.0184      0.006     -3.298      0.001      -0.029      -0.007\n",
      "Genre_Fighting        -0.0076      0.007     -1.149      0.251      -0.021       0.005\n",
      "Genre_Misc            -0.0046      0.005     -0.915      0.360      -0.015       0.005\n",
      "Genre_Platform        -0.0167      0.006     -2.582      0.010      -0.029      -0.004\n",
      "Genre_Puzzle          -0.0087      0.008     -1.114      0.265      -0.024       0.007\n",
      "Genre_Racing           0.0027      0.006      0.472      0.637      -0.009       0.014\n",
      "Genre_Role-Playing    -0.0057      0.005     -1.068      0.286      -0.016       0.005\n",
      "Genre_Shooter         -0.0040      0.006     -0.734      0.463      -0.015       0.007\n",
      "Genre_Simulation      -0.0081      0.007     -1.234      0.217      -0.021       0.005\n",
      "Genre_Sports          -0.0006      0.005     -0.120      0.904      -0.010       0.008\n",
      "Genre_Strategy        -0.0057      0.007     -0.762      0.446      -0.020       0.009\n",
      "==============================================================================\n",
      "Omnibus:                    34684.249   Durbin-Watson:                   2.000\n",
      "Prob(Omnibus):                  0.000   Jarque-Bera (JB):       3326842598.641\n",
      "Skew:                          42.585   Prob(JB):                         0.00\n",
      "Kurtosis:                    2618.538   Cond. No.                         68.9\n",
      "==============================================================================\n",
      "\n",
      "Notes:\n",
      "[1] Standard Errors assume that the covariance matrix of the errors is correctly specified.\n"
     ]
    }
   ],
   "source": [
    "#model fit using linear regression with ols model\n",
    "linreg_ols= sm.OLS(y_train['Global_Sales'],X_train).fit()\n",
    "print(linreg_ols.summary())"
   ]
  },
  {
   "cell_type": "code",
   "execution_count": 198,
   "id": "3aaf3e8d-3ff7-4479-96d0-1a60d94150a7",
   "metadata": {},
   "outputs": [],
   "source": [
    "actual_Global_Sales = y_test['Global_Sales']"
   ]
  },
  {
   "cell_type": "code",
   "execution_count": 199,
   "id": "79946a42-f535-454b-a1ce-ee2f8126dc38",
   "metadata": {},
   "outputs": [],
   "source": [
    "#pedicting using linear regression\n",
    "linreg_model_predictions = linreg_ols.predict(X_test)"
   ]
  },
  {
   "cell_type": "code",
   "execution_count": 200,
   "id": "a28a193e-e9e7-430c-80ae-fd80cca759df",
   "metadata": {},
   "outputs": [],
   "source": [
    "#calculating rmse,rsquare,adj rquare\n",
    "linreg_ols_rmse = rmse(actual_Global_Sales, linreg_model_predictions)\n",
    "linreg_ols_rsquared = linreg_ols.rsquared\n",
    "linreg_ols_rsquared_adj = linreg_ols.rsquared_adj "
   ]
  },
  {
   "cell_type": "code",
   "execution_count": 201,
   "id": "959e5080-9426-4b17-a2e7-5df0799b1044",
   "metadata": {},
   "outputs": [
    {
     "data": {
      "text/html": [
       "<div>\n",
       "<style scoped>\n",
       "    .dataframe tbody tr th:only-of-type {\n",
       "        vertical-align: middle;\n",
       "    }\n",
       "\n",
       "    .dataframe tbody tr th {\n",
       "        vertical-align: top;\n",
       "    }\n",
       "\n",
       "    .dataframe thead th {\n",
       "        text-align: right;\n",
       "    }\n",
       "</style>\n",
       "<table border=\"1\" class=\"dataframe\">\n",
       "  <thead>\n",
       "    <tr style=\"text-align: right;\">\n",
       "      <th></th>\n",
       "      <th>Model</th>\n",
       "      <th>RMSE</th>\n",
       "      <th>R-Squared</th>\n",
       "      <th>Adj. R-Squared</th>\n",
       "    </tr>\n",
       "  </thead>\n",
       "  <tbody>\n",
       "    <tr>\n",
       "      <th>0</th>\n",
       "      <td>linreg_ols</td>\n",
       "      <td>0.093638</td>\n",
       "      <td>0.990442</td>\n",
       "      <td>0.990409</td>\n",
       "    </tr>\n",
       "  </tbody>\n",
       "</table>\n",
       "</div>"
      ],
      "text/plain": [
       "         Model      RMSE  R-Squared  Adj. R-Squared\n",
       "0  linreg_ols   0.093638   0.990442        0.990409"
      ]
     },
     "execution_count": 201,
     "metadata": {},
     "output_type": "execute_result"
    }
   ],
   "source": [
    "#print result in tabulation\n",
    "cols = ['Model', 'RMSE', 'R-Squared', 'Adj. R-Squared']\n",
    "result_tabulation = pd.DataFrame(columns = cols)\n",
    "linreg_ols_metrics = pd.Series({'Model': \"linreg_ols \",\n",
    "                     'RMSE':linreg_ols_rmse ,\n",
    "                     'R-Squared': linreg_ols_rsquared,\n",
    "                     'Adj. R-Squared': linreg_ols_rsquared_adj     \n",
    "                   })\n",
    "\n",
    "result_tabulation = result_tabulation.append(linreg_ols_metrics, ignore_index = True)\n",
    "\n",
    "result_tabulation"
   ]
  },
  {
   "cell_type": "code",
   "execution_count": 146,
   "id": "952ee883-3d58-4ef6-bba9-a13480a27f09",
   "metadata": {},
   "outputs": [],
   "source": [
    "#ols model giving less rmse"
   ]
  },
  {
   "cell_type": "code",
   "execution_count": null,
   "id": "30d32d83-9444-44c7-a784-219c8a1ce70c",
   "metadata": {},
   "outputs": [],
   "source": []
  },
  {
   "cell_type": "markdown",
   "id": "5a3ac7e4-4080-406a-8ac3-589f597f2358",
   "metadata": {},
   "source": [
    "# checking perdiction for test data"
   ]
  },
  {
   "cell_type": "code",
   "execution_count": 204,
   "id": "19cf6327-4618-4435-a0ec-dbc5dca72920",
   "metadata": {},
   "outputs": [],
   "source": [
    "#test data\n",
    "new_data =pd.read_csv('Test.csv')"
   ]
  },
  {
   "cell_type": "code",
   "execution_count": 205,
   "id": "caa17402-1e29-4a76-b4be-1375fce06253",
   "metadata": {},
   "outputs": [
    {
     "data": {
      "text/html": [
       "<div>\n",
       "<style scoped>\n",
       "    .dataframe tbody tr th:only-of-type {\n",
       "        vertical-align: middle;\n",
       "    }\n",
       "\n",
       "    .dataframe tbody tr th {\n",
       "        vertical-align: top;\n",
       "    }\n",
       "\n",
       "    .dataframe thead th {\n",
       "        text-align: right;\n",
       "    }\n",
       "</style>\n",
       "<table border=\"1\" class=\"dataframe\">\n",
       "  <thead>\n",
       "    <tr style=\"text-align: right;\">\n",
       "      <th></th>\n",
       "      <th>Name</th>\n",
       "      <th>Platform</th>\n",
       "      <th>Year_of_Release</th>\n",
       "      <th>Genre</th>\n",
       "      <th>Publisher</th>\n",
       "      <th>NA_Sales</th>\n",
       "      <th>EU_Sales</th>\n",
       "      <th>JP_Sales</th>\n",
       "      <th>Critic_Score</th>\n",
       "      <th>Critic_Count</th>\n",
       "      <th>User_Score</th>\n",
       "      <th>User_Count</th>\n",
       "      <th>Developer</th>\n",
       "      <th>Rating</th>\n",
       "    </tr>\n",
       "  </thead>\n",
       "  <tbody>\n",
       "    <tr>\n",
       "      <th>0</th>\n",
       "      <td>Nicktoons: MLB</td>\n",
       "      <td>X360</td>\n",
       "      <td>2011.0</td>\n",
       "      <td>Sports</td>\n",
       "      <td>Take-Two Interactive</td>\n",
       "      <td>0.12</td>\n",
       "      <td>0.00</td>\n",
       "      <td>0.0</td>\n",
       "      <td>NaN</td>\n",
       "      <td>NaN</td>\n",
       "      <td>7.6</td>\n",
       "      <td>7.0</td>\n",
       "      <td>High Voltage Software</td>\n",
       "      <td>E</td>\n",
       "    </tr>\n",
       "    <tr>\n",
       "      <th>1</th>\n",
       "      <td>Shonen Jump's One Piece: Grand Battle</td>\n",
       "      <td>PS2</td>\n",
       "      <td>2005.0</td>\n",
       "      <td>Fighting</td>\n",
       "      <td>Atari</td>\n",
       "      <td>0.07</td>\n",
       "      <td>0.05</td>\n",
       "      <td>0.0</td>\n",
       "      <td>NaN</td>\n",
       "      <td>NaN</td>\n",
       "      <td>NaN</td>\n",
       "      <td>NaN</td>\n",
       "      <td>NaN</td>\n",
       "      <td>NaN</td>\n",
       "    </tr>\n",
       "    <tr>\n",
       "      <th>2</th>\n",
       "      <td>Learn Math</td>\n",
       "      <td>DS</td>\n",
       "      <td>2009.0</td>\n",
       "      <td>Puzzle</td>\n",
       "      <td>DreamCatcher Interactive</td>\n",
       "      <td>0.12</td>\n",
       "      <td>0.00</td>\n",
       "      <td>0.0</td>\n",
       "      <td>NaN</td>\n",
       "      <td>NaN</td>\n",
       "      <td>tbd</td>\n",
       "      <td>NaN</td>\n",
       "      <td>Dreamcatcher</td>\n",
       "      <td>E</td>\n",
       "    </tr>\n",
       "    <tr>\n",
       "      <th>3</th>\n",
       "      <td>Nitrobike</td>\n",
       "      <td>Wii</td>\n",
       "      <td>2008.0</td>\n",
       "      <td>Racing</td>\n",
       "      <td>Ubisoft</td>\n",
       "      <td>0.11</td>\n",
       "      <td>0.01</td>\n",
       "      <td>0.0</td>\n",
       "      <td>49.0</td>\n",
       "      <td>22.0</td>\n",
       "      <td>7.1</td>\n",
       "      <td>7.0</td>\n",
       "      <td>Left Field Productions</td>\n",
       "      <td>E10+</td>\n",
       "    </tr>\n",
       "    <tr>\n",
       "      <th>4</th>\n",
       "      <td>Cruise Ship Vacation Games</td>\n",
       "      <td>Wii</td>\n",
       "      <td>2009.0</td>\n",
       "      <td>Puzzle</td>\n",
       "      <td>Avanquest</td>\n",
       "      <td>0.12</td>\n",
       "      <td>0.00</td>\n",
       "      <td>0.0</td>\n",
       "      <td>NaN</td>\n",
       "      <td>NaN</td>\n",
       "      <td>tbd</td>\n",
       "      <td>NaN</td>\n",
       "      <td>Activision</td>\n",
       "      <td>E</td>\n",
       "    </tr>\n",
       "  </tbody>\n",
       "</table>\n",
       "</div>"
      ],
      "text/plain": [
       "                                    Name Platform  Year_of_Release     Genre  \\\n",
       "0                         Nicktoons: MLB     X360           2011.0    Sports   \n",
       "1  Shonen Jump's One Piece: Grand Battle      PS2           2005.0  Fighting   \n",
       "2                             Learn Math       DS           2009.0    Puzzle   \n",
       "3                              Nitrobike      Wii           2008.0    Racing   \n",
       "4             Cruise Ship Vacation Games      Wii           2009.0    Puzzle   \n",
       "\n",
       "                  Publisher  NA_Sales  EU_Sales  JP_Sales  Critic_Score  \\\n",
       "0      Take-Two Interactive      0.12      0.00       0.0           NaN   \n",
       "1                     Atari      0.07      0.05       0.0           NaN   \n",
       "2  DreamCatcher Interactive      0.12      0.00       0.0           NaN   \n",
       "3                   Ubisoft      0.11      0.01       0.0          49.0   \n",
       "4                 Avanquest      0.12      0.00       0.0           NaN   \n",
       "\n",
       "   Critic_Count User_Score  User_Count               Developer Rating  \n",
       "0           NaN        7.6         7.0   High Voltage Software      E  \n",
       "1           NaN        NaN         NaN                     NaN    NaN  \n",
       "2           NaN        tbd         NaN            Dreamcatcher      E  \n",
       "3          22.0        7.1         7.0  Left Field Productions   E10+  \n",
       "4           NaN        tbd         NaN              Activision      E  "
      ]
     },
     "execution_count": 205,
     "metadata": {},
     "output_type": "execute_result"
    }
   ],
   "source": [
    "new_data.head()"
   ]
  },
  {
   "cell_type": "code",
   "execution_count": 206,
   "id": "6fa0b80f-3e0d-4e9e-ba1f-baf029414a0b",
   "metadata": {},
   "outputs": [
    {
     "data": {
      "text/plain": [
       "Name                object\n",
       "Platform            object\n",
       "Year_of_Release    float64\n",
       "Genre               object\n",
       "Publisher           object\n",
       "NA_Sales           float64\n",
       "EU_Sales           float64\n",
       "JP_Sales           float64\n",
       "Critic_Score       float64\n",
       "Critic_Count       float64\n",
       "User_Score          object\n",
       "User_Count         float64\n",
       "Developer           object\n",
       "Rating              object\n",
       "dtype: object"
      ]
     },
     "execution_count": 206,
     "metadata": {},
     "output_type": "execute_result"
    }
   ],
   "source": [
    "new_data.dtypes"
   ]
  },
  {
   "cell_type": "code",
   "execution_count": 207,
   "id": "3a5525c8-13ba-4233-9293-8cd8032bd240",
   "metadata": {},
   "outputs": [
    {
     "name": "stdout",
     "output_type": "stream",
     "text": [
      "<class 'pandas.core.frame.DataFrame'>\n",
      "RangeIndex: 2143 entries, 0 to 2142\n",
      "Data columns (total 14 columns):\n",
      " #   Column           Non-Null Count  Dtype  \n",
      "---  ------           --------------  -----  \n",
      " 0   Name             2143 non-null   object \n",
      " 1   Platform         2143 non-null   object \n",
      " 2   Year_of_Release  2106 non-null   float64\n",
      " 3   Genre            2143 non-null   object \n",
      " 4   Publisher        2138 non-null   object \n",
      " 5   NA_Sales         2143 non-null   float64\n",
      " 6   EU_Sales         2143 non-null   float64\n",
      " 7   JP_Sales         2143 non-null   float64\n",
      " 8   Critic_Score     920 non-null    float64\n",
      " 9   Critic_Count     920 non-null    float64\n",
      " 10  User_Score       1255 non-null   object \n",
      " 11  User_Count       794 non-null    float64\n",
      " 12  Developer        1267 non-null   object \n",
      " 13  Rating           1246 non-null   object \n",
      "dtypes: float64(7), object(7)\n",
      "memory usage: 234.5+ KB\n"
     ]
    }
   ],
   "source": [
    "new_data.info()"
   ]
  },
  {
   "cell_type": "code",
   "execution_count": 208,
   "id": "4abb8dfe-77df-4173-a5d7-d00a0270e59c",
   "metadata": {},
   "outputs": [
    {
     "data": {
      "text/plain": [
       "(2143, 14)"
      ]
     },
     "execution_count": 208,
     "metadata": {},
     "output_type": "execute_result"
    }
   ],
   "source": [
    "new_data.shape"
   ]
  },
  {
   "cell_type": "code",
   "execution_count": 209,
   "id": "8bda3f06-a6f9-4fc5-a903-93c38780bf55",
   "metadata": {},
   "outputs": [
    {
     "data": {
      "text/plain": [
       "array(['7.6', nan, 'tbd', '7.1', '2.2', '3.7', '7', '8.8', '7.8', '7.4',\n",
       "       '6.3', '8.7', '6.7', '6.2', '5.9', '3.8', '9', '3.2', '6', '4.2',\n",
       "       '8.2', '7.2', '8.3', '9.1', '5.6', '8.5', '6.6', '7.3', '7.5',\n",
       "       '6.8', '2.5', '9.2', '3.1', '5.5', '8.1', '8', '5.7', '6.4', '6.9',\n",
       "       '3.5', '3.9', '1.8', '6.5', '9.4', '5', '7.7', '2.4', '8.4', '3',\n",
       "       '2', '4.8', '4.7', '5.2', '1.3', '4.9', '5.8', '4.5', '7.9', '4.3',\n",
       "       '4', '5.4', '8.6', '2.1', '3.4', '0.2', '8.9', '1.4', '5.1', '6.1',\n",
       "       '9.3', '1.7', '5.3', '3.3', '4.1', '2.8', '4.6', '2.7', '4.4',\n",
       "       '1.5', '0.9'], dtype=object)"
      ]
     },
     "execution_count": 209,
     "metadata": {},
     "output_type": "execute_result"
    }
   ],
   "source": [
    "new_data.User_Score.unique()"
   ]
  },
  {
   "cell_type": "code",
   "execution_count": 210,
   "id": "24a4cce1-3cea-4c75-b25e-d7037d000674",
   "metadata": {},
   "outputs": [
    {
     "data": {
      "text/plain": [
       "(2143, 14)"
      ]
     },
     "execution_count": 210,
     "metadata": {},
     "output_type": "execute_result"
    }
   ],
   "source": [
    "new_data.shape"
   ]
  },
  {
   "cell_type": "code",
   "execution_count": 211,
   "id": "1383e37f-5b4b-4e91-926c-5e5d316a7f01",
   "metadata": {},
   "outputs": [
    {
     "data": {
      "text/plain": [
       "Name                  0\n",
       "Platform              0\n",
       "Year_of_Release      37\n",
       "Genre                 0\n",
       "Publisher             5\n",
       "NA_Sales              0\n",
       "EU_Sales              0\n",
       "JP_Sales              0\n",
       "Critic_Score       1223\n",
       "Critic_Count       1223\n",
       "User_Score          888\n",
       "User_Count         1349\n",
       "Developer           876\n",
       "Rating              897\n",
       "dtype: int64"
      ]
     },
     "execution_count": 211,
     "metadata": {},
     "output_type": "execute_result"
    }
   ],
   "source": [
    "#cheching null values\n",
    "new_data.isnull().sum()"
   ]
  },
  {
   "cell_type": "code",
   "execution_count": 212,
   "id": "684ff229-e470-4ed2-a5fc-e1c67e72462b",
   "metadata": {},
   "outputs": [
    {
     "data": {
      "text/plain": [
       "<AxesSubplot:>"
      ]
     },
     "execution_count": 212,
     "metadata": {},
     "output_type": "execute_result"
    },
    {
     "data": {
      "image/png": "[encoded data removed]",
      "text/plain": [
       "<Figure size 432x288 with 1 Axes>"
      ]
     },
     "metadata": {
      "needs_background": "light"
     },
     "output_type": "display_data"
    }
   ],
   "source": [
    "sns.heatmap(new_data.isnull(), cbar=False)"
   ]
  },
  {
   "cell_type": "code",
   "execution_count": 214,
   "id": "bc837fd3-022a-4a83-938e-704bb7b7d9e5",
   "metadata": {},
   "outputs": [],
   "source": [
    "#copy the name for future to disply predicted_values\n",
    "data_predict=new_data[\"Name\"]"
   ]
  },
  {
   "cell_type": "code",
   "execution_count": 215,
   "id": "d047b215-c5a3-4515-80c3-1a4457114b35",
   "metadata": {},
   "outputs": [
    {
     "data": {
      "text/html": [
       "<div>\n",
       "<style scoped>\n",
       "    .dataframe tbody tr th:only-of-type {\n",
       "        vertical-align: middle;\n",
       "    }\n",
       "\n",
       "    .dataframe tbody tr th {\n",
       "        vertical-align: top;\n",
       "    }\n",
       "\n",
       "    .dataframe thead th {\n",
       "        text-align: right;\n",
       "    }\n",
       "</style>\n",
       "<table border=\"1\" class=\"dataframe\">\n",
       "  <thead>\n",
       "    <tr style=\"text-align: right;\">\n",
       "      <th></th>\n",
       "      <th>Platform</th>\n",
       "      <th>Genre</th>\n",
       "      <th>NA_Sales</th>\n",
       "      <th>EU_Sales</th>\n",
       "      <th>JP_Sales</th>\n",
       "    </tr>\n",
       "  </thead>\n",
       "  <tbody>\n",
       "    <tr>\n",
       "      <th>0</th>\n",
       "      <td>X360</td>\n",
       "      <td>Sports</td>\n",
       "      <td>0.12</td>\n",
       "      <td>0.00</td>\n",
       "      <td>0.0</td>\n",
       "    </tr>\n",
       "    <tr>\n",
       "      <th>1</th>\n",
       "      <td>PS2</td>\n",
       "      <td>Fighting</td>\n",
       "      <td>0.07</td>\n",
       "      <td>0.05</td>\n",
       "      <td>0.0</td>\n",
       "    </tr>\n",
       "    <tr>\n",
       "      <th>2</th>\n",
       "      <td>DS</td>\n",
       "      <td>Puzzle</td>\n",
       "      <td>0.12</td>\n",
       "      <td>0.00</td>\n",
       "      <td>0.0</td>\n",
       "    </tr>\n",
       "    <tr>\n",
       "      <th>3</th>\n",
       "      <td>Wii</td>\n",
       "      <td>Racing</td>\n",
       "      <td>0.11</td>\n",
       "      <td>0.01</td>\n",
       "      <td>0.0</td>\n",
       "    </tr>\n",
       "    <tr>\n",
       "      <th>4</th>\n",
       "      <td>Wii</td>\n",
       "      <td>Puzzle</td>\n",
       "      <td>0.12</td>\n",
       "      <td>0.00</td>\n",
       "      <td>0.0</td>\n",
       "    </tr>\n",
       "  </tbody>\n",
       "</table>\n",
       "</div>"
      ],
      "text/plain": [
       "  Platform     Genre  NA_Sales  EU_Sales  JP_Sales\n",
       "0     X360    Sports      0.12      0.00       0.0\n",
       "1      PS2  Fighting      0.07      0.05       0.0\n",
       "2       DS    Puzzle      0.12      0.00       0.0\n",
       "3      Wii    Racing      0.11      0.01       0.0\n",
       "4      Wii    Puzzle      0.12      0.00       0.0"
      ]
     },
     "execution_count": 215,
     "metadata": {},
     "output_type": "execute_result"
    }
   ],
   "source": [
    "#drop column of nan values\n",
    "new_data = new_data.drop([\"Name\",\"Publisher\",\"Developer\",\"Year_of_Release\",\"Critic_Score\",\"Critic_Count\",\"User_Score\",\"User_Count\",\"Rating\"],axis=1)\n",
    "new_data.head()"
   ]
  },
  {
   "cell_type": "code",
   "execution_count": 216,
   "id": "62145d36-58d4-4bcc-91f4-cc815df965ae",
   "metadata": {},
   "outputs": [
    {
     "data": {
      "text/plain": [
       "Platform     object\n",
       "Genre        object\n",
       "NA_Sales    float64\n",
       "EU_Sales    float64\n",
       "JP_Sales    float64\n",
       "dtype: object"
      ]
     },
     "execution_count": 216,
     "metadata": {},
     "output_type": "execute_result"
    }
   ],
   "source": [
    "new_data.dtypes"
   ]
  },
  {
   "cell_type": "code",
   "execution_count": 217,
   "id": "85de81be-ea81-4e62-b677-7b0f92bfcbbd",
   "metadata": {},
   "outputs": [
    {
     "data": {
      "text/plain": [
       "Platform    0\n",
       "Genre       0\n",
       "NA_Sales    0\n",
       "EU_Sales    0\n",
       "JP_Sales    0\n",
       "dtype: int64"
      ]
     },
     "execution_count": 217,
     "metadata": {},
     "output_type": "execute_result"
    }
   ],
   "source": [
    "#checking null values\n",
    "new_data.isnull().sum()"
   ]
  },
  {
   "cell_type": "code",
   "execution_count": 218,
   "id": "19f56d78-45ed-43ae-8461-125de8fb3697",
   "metadata": {},
   "outputs": [
    {
     "data": {
      "text/plain": [
       "<AxesSubplot:>"
      ]
     },
     "execution_count": 218,
     "metadata": {},
     "output_type": "execute_result"
    },
    {
     "data": {
      "image/png": "[encoded data removed]",
      "text/plain": [
       "<Figure size 432x288 with 1 Axes>"
      ]
     },
     "metadata": {
      "needs_background": "light"
     },
     "output_type": "display_data"
    }
   ],
   "source": [
    "#ploting null value\n",
    "sns.heatmap(new_data.isnull(), cbar=False)"
   ]
  },
  {
   "cell_type": "code",
   "execution_count": 219,
   "id": "958cbf49-b334-400d-8017-82b218d272c9",
   "metadata": {},
   "outputs": [
    {
     "data": {
      "text/plain": [
       "(2143, 5)"
      ]
     },
     "execution_count": 219,
     "metadata": {},
     "output_type": "execute_result"
    }
   ],
   "source": [
    "new_data.shape"
   ]
  },
  {
   "cell_type": "code",
   "execution_count": 220,
   "id": "37885593-e22e-4b37-ac39-c491b17085d2",
   "metadata": {},
   "outputs": [
    {
     "data": {
      "text/plain": [
       "Index(['NA_Sales', 'EU_Sales', 'JP_Sales'], dtype='object')"
      ]
     },
     "execution_count": 220,
     "metadata": {},
     "output_type": "execute_result"
    }
   ],
   "source": [
    "#print numeric features\n",
    "new_data_numeric_fea = new_data.select_dtypes(include=np.number)\n",
    "new_data_numeric_fea.columns"
   ]
  },
  {
   "cell_type": "code",
   "execution_count": 221,
   "id": "883b7322-2fb3-4508-a29f-20a89a74432e",
   "metadata": {},
   "outputs": [
    {
     "data": {
      "text/plain": [
       "<function matplotlib.pyplot.show(close=None, block=None)>"
      ]
     },
     "execution_count": 221,
     "metadata": {},
     "output_type": "execute_result"
    },
    {
     "data": {
      "image/png": "[encoded data removed]",
      "text/plain": [
       "<Figure size 1440x720 with 4 Axes>"
      ]
     },
     "metadata": {
      "needs_background": "light"
     },
     "output_type": "display_data"
    }
   ],
   "source": [
    "#plot of histogram\n",
    "new_data.hist( color = \"green\",figsize=([20,10]))\n",
    "plt.show"
   ]
  },
  {
   "cell_type": "code",
   "execution_count": 222,
   "id": "f0b43ee2-98f6-4e56-855e-e62597d939ea",
   "metadata": {},
   "outputs": [
    {
     "data": {
      "text/plain": [
       "<AxesSubplot:>"
      ]
     },
     "execution_count": 222,
     "metadata": {},
     "output_type": "execute_result"
    },
    {
     "data": {
      "image/png": "[encoded data removed]",
      "text/plain": [
       "<Figure size 720x720 with 1 Axes>"
      ]
     },
     "metadata": {
      "needs_background": "light"
     },
     "output_type": "display_data"
    }
   ],
   "source": [
    "#plot boxplot for checking outlier\n",
    "new_data.boxplot(figsize=[10,10])"
   ]
  },
  {
   "cell_type": "code",
   "execution_count": 223,
   "id": "e1e1d43e-a570-4d11-a74f-a5a341b1a2f1",
   "metadata": {},
   "outputs": [
    {
     "data": {
      "text/html": [
       "<div>\n",
       "<style scoped>\n",
       "    .dataframe tbody tr th:only-of-type {\n",
       "        vertical-align: middle;\n",
       "    }\n",
       "\n",
       "    .dataframe tbody tr th {\n",
       "        vertical-align: top;\n",
       "    }\n",
       "\n",
       "    .dataframe thead th {\n",
       "        text-align: right;\n",
       "    }\n",
       "</style>\n",
       "<table border=\"1\" class=\"dataframe\">\n",
       "  <thead>\n",
       "    <tr style=\"text-align: right;\">\n",
       "      <th></th>\n",
       "      <th>NA_Sales</th>\n",
       "      <th>EU_Sales</th>\n",
       "      <th>JP_Sales</th>\n",
       "    </tr>\n",
       "  </thead>\n",
       "  <tbody>\n",
       "    <tr>\n",
       "      <th>NA_Sales</th>\n",
       "      <td>1.000000</td>\n",
       "      <td>-0.052160</td>\n",
       "      <td>-0.675859</td>\n",
       "    </tr>\n",
       "    <tr>\n",
       "      <th>EU_Sales</th>\n",
       "      <td>-0.052160</td>\n",
       "      <td>1.000000</td>\n",
       "      <td>-0.423567</td>\n",
       "    </tr>\n",
       "    <tr>\n",
       "      <th>JP_Sales</th>\n",
       "      <td>-0.675859</td>\n",
       "      <td>-0.423567</td>\n",
       "      <td>1.000000</td>\n",
       "    </tr>\n",
       "  </tbody>\n",
       "</table>\n",
       "</div>"
      ],
      "text/plain": [
       "          NA_Sales  EU_Sales  JP_Sales\n",
       "NA_Sales  1.000000 -0.052160 -0.675859\n",
       "EU_Sales -0.052160  1.000000 -0.423567\n",
       "JP_Sales -0.675859 -0.423567  1.000000"
      ]
     },
     "execution_count": 223,
     "metadata": {},
     "output_type": "execute_result"
    }
   ],
   "source": [
    "#checking co-relation\n",
    "corr = new_data.corr()\n",
    "corr"
   ]
  },
  {
   "cell_type": "code",
   "execution_count": 224,
   "id": "30b03c92-1592-41bc-aba9-0fb704be656a",
   "metadata": {},
   "outputs": [
    {
     "data": {
      "image/png": "[encoded data removed]",
      "text/plain": [
       "<Figure size 2520x1800 with 2 Axes>"
      ]
     },
     "metadata": {
      "needs_background": "light"
     },
     "output_type": "display_data"
    }
   ],
   "source": [
    "#plot co-relation matrix\n",
    "plt.figure(figsize = (35,25))\n",
    "sns.heatmap(corr, annot = True, vmax = 1.0, vmin = -1.0, cmap = 'bwr', annot_kws = {\"size\": 11.5})\n",
    "plt.show()"
   ]
  },
  {
   "cell_type": "code",
   "execution_count": 225,
   "id": "84e7e172-4c99-4447-a4fd-24b59dfb52c4",
   "metadata": {},
   "outputs": [
    {
     "data": {
      "text/plain": [
       "Index(['NA_Sales', 'EU_Sales', 'JP_Sales'], dtype='object')"
      ]
     },
     "execution_count": 225,
     "metadata": {},
     "output_type": "execute_result"
    }
   ],
   "source": [
    "#print numeric features\n",
    "new_data_numeric =new_data.select_dtypes(include=np.number)\n",
    "new_data_numeric.columns"
   ]
  },
  {
   "cell_type": "code",
   "execution_count": 226,
   "id": "fded82c8-c351-427b-bfb1-0af0fc481352",
   "metadata": {},
   "outputs": [
    {
     "data": {
      "text/plain": [
       "Index(['Platform', 'Genre'], dtype='object')"
      ]
     },
     "execution_count": 226,
     "metadata": {},
     "output_type": "execute_result"
    }
   ],
   "source": [
    "#print categoric features\n",
    "new_data_categoric = new_data.select_dtypes(include = object)\n",
    "new_data_categoric.columns"
   ]
  },
  {
   "cell_type": "code",
   "execution_count": 227,
   "id": "6c479bde-647f-4e25-bccb-ee01ce795e48",
   "metadata": {},
   "outputs": [
    {
     "data": {
      "text/plain": [
       "Index(['Platform', 'Genre'], dtype='object')"
      ]
     },
     "execution_count": 227,
     "metadata": {},
     "output_type": "execute_result"
    }
   ],
   "source": [
    "new_data_categoric.columns"
   ]
  },
  {
   "cell_type": "code",
   "execution_count": 228,
   "id": "20fc5375-8574-4204-84e4-1d8aac1be27b",
   "metadata": {},
   "outputs": [],
   "source": [
    "#using dummy encodimg for catogoric feature\n",
    "dummy_encode = pd.get_dummies(new_data_categoric, drop_first = True)"
   ]
  },
  {
   "cell_type": "code",
   "execution_count": 229,
   "id": "e49c6c33-b717-42ed-847a-f07fa082d391",
   "metadata": {},
   "outputs": [
    {
     "data": {
      "text/html": [
       "<div>\n",
       "<style scoped>\n",
       "    .dataframe tbody tr th:only-of-type {\n",
       "        vertical-align: middle;\n",
       "    }\n",
       "\n",
       "    .dataframe tbody tr th {\n",
       "        vertical-align: top;\n",
       "    }\n",
       "\n",
       "    .dataframe thead th {\n",
       "        text-align: right;\n",
       "    }\n",
       "</style>\n",
       "<table border=\"1\" class=\"dataframe\">\n",
       "  <thead>\n",
       "    <tr style=\"text-align: right;\">\n",
       "      <th></th>\n",
       "      <th>Platform_3DS</th>\n",
       "      <th>Platform_DC</th>\n",
       "      <th>Platform_DS</th>\n",
       "      <th>Platform_GB</th>\n",
       "      <th>Platform_GBA</th>\n",
       "      <th>Platform_GC</th>\n",
       "      <th>Platform_GEN</th>\n",
       "      <th>Platform_N64</th>\n",
       "      <th>Platform_NES</th>\n",
       "      <th>Platform_NG</th>\n",
       "      <th>...</th>\n",
       "      <th>Genre_Fighting</th>\n",
       "      <th>Genre_Misc</th>\n",
       "      <th>Genre_Platform</th>\n",
       "      <th>Genre_Puzzle</th>\n",
       "      <th>Genre_Racing</th>\n",
       "      <th>Genre_Role-Playing</th>\n",
       "      <th>Genre_Shooter</th>\n",
       "      <th>Genre_Simulation</th>\n",
       "      <th>Genre_Sports</th>\n",
       "      <th>Genre_Strategy</th>\n",
       "    </tr>\n",
       "  </thead>\n",
       "  <tbody>\n",
       "    <tr>\n",
       "      <th>0</th>\n",
       "      <td>0</td>\n",
       "      <td>0</td>\n",
       "      <td>0</td>\n",
       "      <td>0</td>\n",
       "      <td>0</td>\n",
       "      <td>0</td>\n",
       "      <td>0</td>\n",
       "      <td>0</td>\n",
       "      <td>0</td>\n",
       "      <td>0</td>\n",
       "      <td>...</td>\n",
       "      <td>0</td>\n",
       "      <td>0</td>\n",
       "      <td>0</td>\n",
       "      <td>0</td>\n",
       "      <td>0</td>\n",
       "      <td>0</td>\n",
       "      <td>0</td>\n",
       "      <td>0</td>\n",
       "      <td>1</td>\n",
       "      <td>0</td>\n",
       "    </tr>\n",
       "    <tr>\n",
       "      <th>1</th>\n",
       "      <td>0</td>\n",
       "      <td>0</td>\n",
       "      <td>0</td>\n",
       "      <td>0</td>\n",
       "      <td>0</td>\n",
       "      <td>0</td>\n",
       "      <td>0</td>\n",
       "      <td>0</td>\n",
       "      <td>0</td>\n",
       "      <td>0</td>\n",
       "      <td>...</td>\n",
       "      <td>1</td>\n",
       "      <td>0</td>\n",
       "      <td>0</td>\n",
       "      <td>0</td>\n",
       "      <td>0</td>\n",
       "      <td>0</td>\n",
       "      <td>0</td>\n",
       "      <td>0</td>\n",
       "      <td>0</td>\n",
       "      <td>0</td>\n",
       "    </tr>\n",
       "    <tr>\n",
       "      <th>2</th>\n",
       "      <td>0</td>\n",
       "      <td>0</td>\n",
       "      <td>1</td>\n",
       "      <td>0</td>\n",
       "      <td>0</td>\n",
       "      <td>0</td>\n",
       "      <td>0</td>\n",
       "      <td>0</td>\n",
       "      <td>0</td>\n",
       "      <td>0</td>\n",
       "      <td>...</td>\n",
       "      <td>0</td>\n",
       "      <td>0</td>\n",
       "      <td>0</td>\n",
       "      <td>1</td>\n",
       "      <td>0</td>\n",
       "      <td>0</td>\n",
       "      <td>0</td>\n",
       "      <td>0</td>\n",
       "      <td>0</td>\n",
       "      <td>0</td>\n",
       "    </tr>\n",
       "    <tr>\n",
       "      <th>3</th>\n",
       "      <td>0</td>\n",
       "      <td>0</td>\n",
       "      <td>0</td>\n",
       "      <td>0</td>\n",
       "      <td>0</td>\n",
       "      <td>0</td>\n",
       "      <td>0</td>\n",
       "      <td>0</td>\n",
       "      <td>0</td>\n",
       "      <td>0</td>\n",
       "      <td>...</td>\n",
       "      <td>0</td>\n",
       "      <td>0</td>\n",
       "      <td>0</td>\n",
       "      <td>0</td>\n",
       "      <td>1</td>\n",
       "      <td>0</td>\n",
       "      <td>0</td>\n",
       "      <td>0</td>\n",
       "      <td>0</td>\n",
       "      <td>0</td>\n",
       "    </tr>\n",
       "    <tr>\n",
       "      <th>4</th>\n",
       "      <td>0</td>\n",
       "      <td>0</td>\n",
       "      <td>0</td>\n",
       "      <td>0</td>\n",
       "      <td>0</td>\n",
       "      <td>0</td>\n",
       "      <td>0</td>\n",
       "      <td>0</td>\n",
       "      <td>0</td>\n",
       "      <td>0</td>\n",
       "      <td>...</td>\n",
       "      <td>0</td>\n",
       "      <td>0</td>\n",
       "      <td>0</td>\n",
       "      <td>1</td>\n",
       "      <td>0</td>\n",
       "      <td>0</td>\n",
       "      <td>0</td>\n",
       "      <td>0</td>\n",
       "      <td>0</td>\n",
       "      <td>0</td>\n",
       "    </tr>\n",
       "  </tbody>\n",
       "</table>\n",
       "<p>5 rows × 36 columns</p>\n",
       "</div>"
      ],
      "text/plain": [
       "   Platform_3DS  Platform_DC  Platform_DS  Platform_GB  Platform_GBA  \\\n",
       "0             0            0            0            0             0   \n",
       "1             0            0            0            0             0   \n",
       "2             0            0            1            0             0   \n",
       "3             0            0            0            0             0   \n",
       "4             0            0            0            0             0   \n",
       "\n",
       "   Platform_GC  Platform_GEN  Platform_N64  Platform_NES  Platform_NG  ...  \\\n",
       "0            0             0             0             0            0  ...   \n",
       "1            0             0             0             0            0  ...   \n",
       "2            0             0             0             0            0  ...   \n",
       "3            0             0             0             0            0  ...   \n",
       "4            0             0             0             0            0  ...   \n",
       "\n",
       "   Genre_Fighting  Genre_Misc  Genre_Platform  Genre_Puzzle  Genre_Racing  \\\n",
       "0               0           0               0             0             0   \n",
       "1               1           0               0             0             0   \n",
       "2               0           0               0             1             0   \n",
       "3               0           0               0             0             1   \n",
       "4               0           0               0             1             0   \n",
       "\n",
       "   Genre_Role-Playing  Genre_Shooter  Genre_Simulation  Genre_Sports  \\\n",
       "0                   0              0                 0             1   \n",
       "1                   0              0                 0             0   \n",
       "2                   0              0                 0             0   \n",
       "3                   0              0                 0             0   \n",
       "4                   0              0                 0             0   \n",
       "\n",
       "   Genre_Strategy  \n",
       "0               0  \n",
       "1               0  \n",
       "2               0  \n",
       "3               0  \n",
       "4               0  \n",
       "\n",
       "[5 rows x 36 columns]"
      ]
     },
     "execution_count": 229,
     "metadata": {},
     "output_type": "execute_result"
    }
   ],
   "source": [
    "dummy_encode.head()"
   ]
  },
  {
   "cell_type": "code",
   "execution_count": 230,
   "id": "53f4668a-3ab5-48bd-9c3d-106048acc202",
   "metadata": {},
   "outputs": [
    {
     "data": {
      "text/html": [
       "<div>\n",
       "<style scoped>\n",
       "    .dataframe tbody tr th:only-of-type {\n",
       "        vertical-align: middle;\n",
       "    }\n",
       "\n",
       "    .dataframe tbody tr th {\n",
       "        vertical-align: top;\n",
       "    }\n",
       "\n",
       "    .dataframe thead th {\n",
       "        text-align: right;\n",
       "    }\n",
       "</style>\n",
       "<table border=\"1\" class=\"dataframe\">\n",
       "  <thead>\n",
       "    <tr style=\"text-align: right;\">\n",
       "      <th></th>\n",
       "      <th>NA_Sales</th>\n",
       "      <th>EU_Sales</th>\n",
       "      <th>JP_Sales</th>\n",
       "      <th>Platform_3DS</th>\n",
       "      <th>Platform_DC</th>\n",
       "      <th>Platform_DS</th>\n",
       "      <th>Platform_GB</th>\n",
       "      <th>Platform_GBA</th>\n",
       "      <th>Platform_GC</th>\n",
       "      <th>Platform_GEN</th>\n",
       "      <th>...</th>\n",
       "      <th>Genre_Fighting</th>\n",
       "      <th>Genre_Misc</th>\n",
       "      <th>Genre_Platform</th>\n",
       "      <th>Genre_Puzzle</th>\n",
       "      <th>Genre_Racing</th>\n",
       "      <th>Genre_Role-Playing</th>\n",
       "      <th>Genre_Shooter</th>\n",
       "      <th>Genre_Simulation</th>\n",
       "      <th>Genre_Sports</th>\n",
       "      <th>Genre_Strategy</th>\n",
       "    </tr>\n",
       "  </thead>\n",
       "  <tbody>\n",
       "    <tr>\n",
       "      <th>0</th>\n",
       "      <td>0.12</td>\n",
       "      <td>0.00</td>\n",
       "      <td>0.0</td>\n",
       "      <td>0</td>\n",
       "      <td>0</td>\n",
       "      <td>0</td>\n",
       "      <td>0</td>\n",
       "      <td>0</td>\n",
       "      <td>0</td>\n",
       "      <td>0</td>\n",
       "      <td>...</td>\n",
       "      <td>0</td>\n",
       "      <td>0</td>\n",
       "      <td>0</td>\n",
       "      <td>0</td>\n",
       "      <td>0</td>\n",
       "      <td>0</td>\n",
       "      <td>0</td>\n",
       "      <td>0</td>\n",
       "      <td>1</td>\n",
       "      <td>0</td>\n",
       "    </tr>\n",
       "    <tr>\n",
       "      <th>1</th>\n",
       "      <td>0.07</td>\n",
       "      <td>0.05</td>\n",
       "      <td>0.0</td>\n",
       "      <td>0</td>\n",
       "      <td>0</td>\n",
       "      <td>0</td>\n",
       "      <td>0</td>\n",
       "      <td>0</td>\n",
       "      <td>0</td>\n",
       "      <td>0</td>\n",
       "      <td>...</td>\n",
       "      <td>1</td>\n",
       "      <td>0</td>\n",
       "      <td>0</td>\n",
       "      <td>0</td>\n",
       "      <td>0</td>\n",
       "      <td>0</td>\n",
       "      <td>0</td>\n",
       "      <td>0</td>\n",
       "      <td>0</td>\n",
       "      <td>0</td>\n",
       "    </tr>\n",
       "    <tr>\n",
       "      <th>2</th>\n",
       "      <td>0.12</td>\n",
       "      <td>0.00</td>\n",
       "      <td>0.0</td>\n",
       "      <td>0</td>\n",
       "      <td>0</td>\n",
       "      <td>1</td>\n",
       "      <td>0</td>\n",
       "      <td>0</td>\n",
       "      <td>0</td>\n",
       "      <td>0</td>\n",
       "      <td>...</td>\n",
       "      <td>0</td>\n",
       "      <td>0</td>\n",
       "      <td>0</td>\n",
       "      <td>1</td>\n",
       "      <td>0</td>\n",
       "      <td>0</td>\n",
       "      <td>0</td>\n",
       "      <td>0</td>\n",
       "      <td>0</td>\n",
       "      <td>0</td>\n",
       "    </tr>\n",
       "    <tr>\n",
       "      <th>3</th>\n",
       "      <td>0.11</td>\n",
       "      <td>0.01</td>\n",
       "      <td>0.0</td>\n",
       "      <td>0</td>\n",
       "      <td>0</td>\n",
       "      <td>0</td>\n",
       "      <td>0</td>\n",
       "      <td>0</td>\n",
       "      <td>0</td>\n",
       "      <td>0</td>\n",
       "      <td>...</td>\n",
       "      <td>0</td>\n",
       "      <td>0</td>\n",
       "      <td>0</td>\n",
       "      <td>0</td>\n",
       "      <td>1</td>\n",
       "      <td>0</td>\n",
       "      <td>0</td>\n",
       "      <td>0</td>\n",
       "      <td>0</td>\n",
       "      <td>0</td>\n",
       "    </tr>\n",
       "    <tr>\n",
       "      <th>4</th>\n",
       "      <td>0.12</td>\n",
       "      <td>0.00</td>\n",
       "      <td>0.0</td>\n",
       "      <td>0</td>\n",
       "      <td>0</td>\n",
       "      <td>0</td>\n",
       "      <td>0</td>\n",
       "      <td>0</td>\n",
       "      <td>0</td>\n",
       "      <td>0</td>\n",
       "      <td>...</td>\n",
       "      <td>0</td>\n",
       "      <td>0</td>\n",
       "      <td>0</td>\n",
       "      <td>1</td>\n",
       "      <td>0</td>\n",
       "      <td>0</td>\n",
       "      <td>0</td>\n",
       "      <td>0</td>\n",
       "      <td>0</td>\n",
       "      <td>0</td>\n",
       "    </tr>\n",
       "  </tbody>\n",
       "</table>\n",
       "<p>5 rows × 39 columns</p>\n",
       "</div>"
      ],
      "text/plain": [
       "   NA_Sales  EU_Sales  JP_Sales  Platform_3DS  Platform_DC  Platform_DS  \\\n",
       "0      0.12      0.00       0.0             0            0            0   \n",
       "1      0.07      0.05       0.0             0            0            0   \n",
       "2      0.12      0.00       0.0             0            0            1   \n",
       "3      0.11      0.01       0.0             0            0            0   \n",
       "4      0.12      0.00       0.0             0            0            0   \n",
       "\n",
       "   Platform_GB  Platform_GBA  Platform_GC  Platform_GEN  ...  Genre_Fighting  \\\n",
       "0            0             0            0             0  ...               0   \n",
       "1            0             0            0             0  ...               1   \n",
       "2            0             0            0             0  ...               0   \n",
       "3            0             0            0             0  ...               0   \n",
       "4            0             0            0             0  ...               0   \n",
       "\n",
       "   Genre_Misc  Genre_Platform  Genre_Puzzle  Genre_Racing  Genre_Role-Playing  \\\n",
       "0           0               0             0             0                   0   \n",
       "1           0               0             0             0                   0   \n",
       "2           0               0             1             0                   0   \n",
       "3           0               0             0             1                   0   \n",
       "4           0               0             1             0                   0   \n",
       "\n",
       "   Genre_Shooter  Genre_Simulation  Genre_Sports  Genre_Strategy  \n",
       "0              0                 0             1               0  \n",
       "1              0                 0             0               0  \n",
       "2              0                 0             0               0  \n",
       "3              0                 0             0               0  \n",
       "4              0                 0             0               0  \n",
       "\n",
       "[5 rows x 39 columns]"
      ]
     },
     "execution_count": 230,
     "metadata": {},
     "output_type": "execute_result"
    }
   ],
   "source": [
    "#joining both dummy encoded and numeric features\n",
    "new_data_dummy = pd.concat([new_data_numeric, dummy_encode], axis=1)\n",
    "new_data_dummy.head()"
   ]
  },
  {
   "cell_type": "code",
   "execution_count": 231,
   "id": "21094621-d5c6-4b3d-a900-79145a37e1d1",
   "metadata": {},
   "outputs": [
    {
     "data": {
      "text/plain": [
       "(2143, 39)"
      ]
     },
     "execution_count": 231,
     "metadata": {},
     "output_type": "execute_result"
    }
   ],
   "source": [
    "new_data_dummy.shape"
   ]
  },
  {
   "cell_type": "code",
   "execution_count": 232,
   "id": "0050320e-a546-4747-9540-8c37356a48e0",
   "metadata": {},
   "outputs": [],
   "source": [
    "new_data_dummy = sm.add_constant(new_data_dummy)"
   ]
  },
  {
   "cell_type": "code",
   "execution_count": 233,
   "id": "c88c448b-0722-40f4-af42-5bcf2e2346cd",
   "metadata": {},
   "outputs": [],
   "source": [
    "#pridiction of globle sales for test data\n",
    "global_sales_predictions = linreg_ols.predict(new_data_dummy)"
   ]
  },
  {
   "cell_type": "code",
   "execution_count": 234,
   "id": "e7464567-ae42-48fb-b27f-a628f54283f2",
   "metadata": {},
   "outputs": [
    {
     "data": {
      "text/plain": [
       "0       0.124799\n",
       "1       0.178357\n",
       "2       0.128989\n",
       "3       0.135136\n",
       "4       0.122776\n",
       "          ...   \n",
       "2138    0.043743\n",
       "2139    0.048817\n",
       "2140    0.062139\n",
       "2141    0.054394\n",
       "2142    0.062191\n",
       "Length: 2143, dtype: float64"
      ]
     },
     "execution_count": 234,
     "metadata": {},
     "output_type": "execute_result"
    }
   ],
   "source": [
    "#predicted values for given test data\n",
    "global_sales_predictions "
   ]
  },
  {
   "cell_type": "code",
   "execution_count": 235,
   "id": "be9949f6-9e72-44d6-8490-0cf32873040b",
   "metadata": {},
   "outputs": [
    {
     "data": {
      "text/plain": [
       "pandas.core.series.Series"
      ]
     },
     "execution_count": 235,
     "metadata": {},
     "output_type": "execute_result"
    }
   ],
   "source": [
    "#checking type \n",
    "type(global_sales_predictions)"
   ]
  },
  {
   "cell_type": "code",
   "execution_count": 236,
   "id": "68cd0b8c-7555-4e43-90f0-6a3035188b1d",
   "metadata": {},
   "outputs": [
    {
     "data": {
      "text/plain": [
       "pandas.core.series.Series"
      ]
     },
     "execution_count": 236,
     "metadata": {},
     "output_type": "execute_result"
    }
   ],
   "source": [
    "#data_predict means in this iam saved name colums for displaying pedicted values in front thier names\n",
    "#checking its type its in pandas.core.series\n",
    "type(data_predict)"
   ]
  },
  {
   "cell_type": "code",
   "execution_count": 237,
   "id": "9efaa5a6-6eac-43ca-93ac-c994d11824c9",
   "metadata": {},
   "outputs": [],
   "source": [
    "#creating one empty dataframe\n",
    "df =pd.DataFrame()\n"
   ]
  },
  {
   "cell_type": "code",
   "execution_count": 238,
   "id": "8cf9fd47-3a80-4e82-9698-eb6ddeb10fda",
   "metadata": {},
   "outputs": [],
   "source": [
    "#joining names and pridicted_values to display the result\n",
    "df = pd.concat([data_predict.reset_index(drop=True),global_sales_predictions.reset_index(drop=True)],axis=1)\n"
   ]
  },
  {
   "cell_type": "code",
   "execution_count": 239,
   "id": "47a9ccc9-31b9-426c-ac82-ee7680705226",
   "metadata": {},
   "outputs": [],
   "source": [
    "#naming column to display in format\n",
    "df.rename(columns={0:\"global sales\"},inplace=True)\n",
    "df.rename(columns = {'Name':'name'}, inplace = True)"
   ]
  },
  {
   "cell_type": "code",
   "execution_count": 240,
   "id": "347cc019-6ea1-454e-9323-26484aa4f85a",
   "metadata": {},
   "outputs": [
    {
     "data": {
      "text/html": [
       "<div>\n",
       "<style scoped>\n",
       "    .dataframe tbody tr th:only-of-type {\n",
       "        vertical-align: middle;\n",
       "    }\n",
       "\n",
       "    .dataframe tbody tr th {\n",
       "        vertical-align: top;\n",
       "    }\n",
       "\n",
       "    .dataframe thead th {\n",
       "        text-align: right;\n",
       "    }\n",
       "</style>\n",
       "<table border=\"1\" class=\"dataframe\">\n",
       "  <thead>\n",
       "    <tr style=\"text-align: right;\">\n",
       "      <th></th>\n",
       "      <th>name</th>\n",
       "      <th>global sales</th>\n",
       "    </tr>\n",
       "  </thead>\n",
       "  <tbody>\n",
       "    <tr>\n",
       "      <th>0</th>\n",
       "      <td>Nicktoons: MLB</td>\n",
       "      <td>0.124799</td>\n",
       "    </tr>\n",
       "    <tr>\n",
       "      <th>1</th>\n",
       "      <td>Shonen Jump's One Piece: Grand Battle</td>\n",
       "      <td>0.178357</td>\n",
       "    </tr>\n",
       "    <tr>\n",
       "      <th>2</th>\n",
       "      <td>Learn Math</td>\n",
       "      <td>0.128989</td>\n",
       "    </tr>\n",
       "    <tr>\n",
       "      <th>3</th>\n",
       "      <td>Nitrobike</td>\n",
       "      <td>0.135136</td>\n",
       "    </tr>\n",
       "    <tr>\n",
       "      <th>4</th>\n",
       "      <td>Cruise Ship Vacation Games</td>\n",
       "      <td>0.122776</td>\n",
       "    </tr>\n",
       "    <tr>\n",
       "      <th>...</th>\n",
       "      <td>...</td>\n",
       "      <td>...</td>\n",
       "    </tr>\n",
       "    <tr>\n",
       "      <th>2138</th>\n",
       "      <td>Theresia...</td>\n",
       "      <td>0.043743</td>\n",
       "    </tr>\n",
       "    <tr>\n",
       "      <th>2139</th>\n",
       "      <td>Sacred 2: Fallen Angel</td>\n",
       "      <td>0.048817</td>\n",
       "    </tr>\n",
       "    <tr>\n",
       "      <th>2140</th>\n",
       "      <td>Dance Sensation!</td>\n",
       "      <td>0.062139</td>\n",
       "    </tr>\n",
       "    <tr>\n",
       "      <th>2141</th>\n",
       "      <td>Adventure Time: The Secret of the Nameless Kin...</td>\n",
       "      <td>0.054394</td>\n",
       "    </tr>\n",
       "    <tr>\n",
       "      <th>2142</th>\n",
       "      <td>Teenage Mutant Ninja Turtles 3: Mutant Nightmare</td>\n",
       "      <td>0.062191</td>\n",
       "    </tr>\n",
       "  </tbody>\n",
       "</table>\n",
       "<p>2143 rows × 2 columns</p>\n",
       "</div>"
      ],
      "text/plain": [
       "                                                   name  global sales\n",
       "0                                        Nicktoons: MLB      0.124799\n",
       "1                 Shonen Jump's One Piece: Grand Battle      0.178357\n",
       "2                                            Learn Math      0.128989\n",
       "3                                             Nitrobike      0.135136\n",
       "4                            Cruise Ship Vacation Games      0.122776\n",
       "...                                                 ...           ...\n",
       "2138                                        Theresia...      0.043743\n",
       "2139                             Sacred 2: Fallen Angel      0.048817\n",
       "2140                                   Dance Sensation!      0.062139\n",
       "2141  Adventure Time: The Secret of the Nameless Kin...      0.054394\n",
       "2142   Teenage Mutant Ninja Turtles 3: Mutant Nightmare      0.062191\n",
       "\n",
       "[2143 rows x 2 columns]"
      ]
     },
     "execution_count": 240,
     "metadata": {},
     "output_type": "execute_result"
    }
   ],
   "source": [
    "df"
   ]
  },
  {
   "cell_type": "code",
   "execution_count": 241,
   "id": "31e86859-f348-4125-bf80-8fbdd3867b47",
   "metadata": {},
   "outputs": [],
   "source": [
    "#converting pridicted values of final output to csv file\n",
    "df.to_csv(\"Predicted_sales_test.csv\")"
   ]
  },
  {
   "cell_type": "code",
   "execution_count": null,
   "id": "a3788f4b-514b-44fd-b559-92aaece72170",
   "metadata": {},
   "outputs": [],
   "source": []
  }
 ],
 "metadata": {
  "kernelspec": {
   "display_name": "Python 3 (ipykernel)",
   "language": "python",
   "name": "python3"
  },
  "language_info": {
   "codemirror_mode": {
    "name": "ipython",
    "version": 3
   },
   "file_extension": ".py",
   "mimetype": "text/x-python",
   "name": "python",
   "nbconvert_exporter": "python",
   "pygments_lexer": "ipython3",
   "version": "3.10.1"
  }
 },
 "nbformat": 4,
 "nbformat_minor": 5
}
